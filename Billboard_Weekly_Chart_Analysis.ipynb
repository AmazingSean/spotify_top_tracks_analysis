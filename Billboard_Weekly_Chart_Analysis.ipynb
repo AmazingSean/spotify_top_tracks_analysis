{
 "cells": [
  {
   "cell_type": "code",
   "execution_count": null,
   "metadata": {},
   "outputs": [],
   "source": [
    "import numpy as np\n",
    "import pandas as pd\n",
    "import matplotlib.pyplot as plt\n",
    "import seaborn as sns \n",
    "import warnings\n",
    "from tqdm import tqdm\n",
    "from datetime import datetime\n",
    "import json\n",
    "from sklearn.preprocessing import LabelEncoder\n",
    "import calendar\n",
    "import spotipy\n",
    "warnings.filterwarnings(\"ignore\")"
   ]
  },
  {
   "cell_type": "markdown",
   "metadata": {},
   "source": [
    "# Data Importing & Engineering"
   ]
  },
  {
   "cell_type": "code",
   "execution_count": null,
   "metadata": {},
   "outputs": [],
   "source": [
    "billboard_weekly_df = pd.read_csv(\"~/desktop/spotify_top_tracks_analysis/data/billboard_with_features_for_10000_samples.csv\")"
   ]
  },
  {
   "cell_type": "code",
   "execution_count": null,
   "metadata": {},
   "outputs": [],
   "source": [
    "billboard_weekly_df.shape"
   ]
  },
  {
   "cell_type": "code",
   "execution_count": null,
   "metadata": {},
   "outputs": [],
   "source": [
    "billboard_weekly_df.columns #had an error naming \"avg_beat_conf\" as \"avg_bar_conf.1\""
   ]
  },
  {
   "cell_type": "code",
   "execution_count": null,
   "metadata": {},
   "outputs": [],
   "source": [
    "# replace the column with correct name:\n",
    "billboard_weekly_df.rename(columns={'avg_bar_conf.1':'avg_beat_conf'}, inplace=True)"
   ]
  },
  {
   "cell_type": "code",
   "execution_count": null,
   "metadata": {},
   "outputs": [],
   "source": [
    "billboard_weekly_df.head()"
   ]
  },
  {
   "cell_type": "code",
   "execution_count": null,
   "metadata": {},
   "outputs": [],
   "source": [
    "# map lambda example\n",
    "\n",
    "# results = map(lambda x: x + 1, [1,2,3])\n",
    "# print(list(results))"
   ]
  },
  {
   "cell_type": "code",
   "execution_count": null,
   "metadata": {},
   "outputs": [],
   "source": [
    "#add a column of datetime objects with date from \"WeekID\"\n",
    "billboard_weekly_df['Date'] = pd.to_datetime(billboard_weekly_df['WeekID'])\n",
    "\n",
    "#add a column of Year\n",
    "billboard_weekly_df['Year'] = billboard_weekly_df['Date'].apply(lambda x: x.year)\n",
    "\n",
    "#add a column of Month\n",
    "billboard_weekly_df['Month'] = billboard_weekly_df['Date'].apply(lambda x: x.month)\n",
    "\n",
    "#add a column of Year and Month\n",
    "billboard_weekly_df['Year_Month'] = billboard_weekly_df['Date'].apply(lambda x: (x.year,x.month))\n",
    "\n",
    "\n",
    "#drop the columns that will not be used\n",
    "billboard_weekly_df.columns[[0,1,2,3,4,5]] #these are the 6 columns we are not interested in\n",
    "billboard_weekly_df = billboard_weekly_df.drop(billboard_weekly_df.columns[:6], axis=1) #axis=1: columns"
   ]
  },
  {
   "cell_type": "code",
   "execution_count": null,
   "metadata": {},
   "outputs": [],
   "source": [
    "billboard_weekly_df.shape"
   ]
  },
  {
   "cell_type": "code",
   "execution_count": null,
   "metadata": {},
   "outputs": [],
   "source": [
    "billboard_weekly_df.head()"
   ]
  },
  {
   "cell_type": "markdown",
   "metadata": {},
   "source": [
    "# Exploring Variables"
   ]
  },
  {
   "cell_type": "markdown",
   "metadata": {},
   "source": [
    "## Looking at the columns we are interested in"
   ]
  },
  {
   "cell_type": "code",
   "execution_count": null,
   "metadata": {},
   "outputs": [],
   "source": [
    "billboard_weekly_df.columns"
   ]
  },
  {
   "cell_type": "markdown",
   "metadata": {},
   "source": [
    "These are the variables we want to look at:"
   ]
  },
  {
   "cell_type": "code",
   "execution_count": null,
   "metadata": {},
   "outputs": [],
   "source": [
    "interested_columns_index = list(pd.concat([billboard_weekly_df.ix[:, 'Week Position'],\n",
    "                                billboard_weekly_df.ix[:, 'Instance':'Weeks on Chart'],\n",
    "                                billboard_weekly_df.ix[:, 'duration_ms':]],axis=1).columns.values)\n",
    "interested_columns_index"
   ]
  },
  {
   "cell_type": "code",
   "execution_count": null,
   "metadata": {},
   "outputs": [],
   "source": [
    "billboard_weekly_df.describe().columns"
   ]
  },
  {
   "cell_type": "markdown",
   "metadata": {},
   "source": [
    "compared to the variables from *.concat* we are interested in, the variables from *.describe* which includes all numerical variables does not have the following 8 non-numerical variables:\n",
    "- 'key' , 'mode' , 'time_signature'\n",
    "- 'key.1', 'mode.1', 'time_signature.1'\n",
    "- 'Date', Year_Month'"
   ]
  },
  {
   "cell_type": "code",
   "execution_count": null,
   "metadata": {},
   "outputs": [],
   "source": [
    "len(pd.concat([billboard_weekly_df.ix[:,0],\n",
    "           billboard_weekly_df.ix[:,4:8],\n",
    "           billboard_weekly_df.ix[:,9:]],axis=1).columns)\n",
    "#OR\n",
    "len(pd.concat([billboard_weekly_df.ix[:, 'Week Position'],\n",
    "           billboard_weekly_df.ix[:, 'Instance':'Weeks on Chart'],\n",
    "           billboard_weekly_df.ix[:, 'duration_ms':]],axis=1).columns)\n",
    "#OR\n",
    "len(interested_columns_index)"
   ]
  },
  {
   "cell_type": "code",
   "execution_count": null,
   "metadata": {},
   "outputs": [],
   "source": [
    "len(billboard_weekly_df.describe().columns)"
   ]
  },
  {
   "cell_type": "markdown",
   "metadata": {},
   "source": [
    "## Correlation Plots and Tables"
   ]
  },
  {
   "cell_type": "code",
   "execution_count": null,
   "metadata": {},
   "outputs": [],
   "source": [
    "len(billboard_weekly_df.corr()) #correlation plot only includes the numerical variables"
   ]
  },
  {
   "cell_type": "code",
   "execution_count": null,
   "metadata": {},
   "outputs": [],
   "source": [
    "corr_columns_index = list(billboard_weekly_df.describe().columns.values)"
   ]
  },
  {
   "cell_type": "markdown",
   "metadata": {},
   "source": [
    "#1 "
   ]
  },
  {
   "cell_type": "code",
   "execution_count": null,
   "metadata": {},
   "outputs": [],
   "source": [
    "from matplotlib.colors import ListedColormap\n",
    "from matplotlib import cm as cm\n",
    "\n",
    "cmap = cm.get_cmap('cool', 30) #or 'jet' or 'hot'\n",
    "# matshow parameter: cax = plt.matshow(x,cmap=cmap)\n",
    "\n",
    "# plt.matshow(billboard_weekly_df.corr())\n",
    "# plt.xticks(range(billboard_weekly_df.shape[1]), billboard_weekly_df.columns)\n",
    "# plt.yticks(range(billboard_weekly_df.shape[1]), billboard_weekly_df.columns)\n",
    "# plt.colorbar()\n",
    "# plt.show()\n",
    "len(billboard_weekly_df.columns) == billboard_weekly_df.shape[1] #TRUE\n",
    "\n",
    "f = plt.figure(figsize=(15, 15))\n",
    "plt.matshow(billboard_weekly_df.corr(), fignum=f.number, cmap=cmap) #cmap only used after setting colors before\n",
    "plt.xticks(range(len(corr_columns_index)), billboard_weekly_df[corr_columns_index], fontsize=10, rotation=90)\n",
    "plt.yticks(range(len(corr_columns_index)), billboard_weekly_df[corr_columns_index], fontsize=10)\n",
    "#x labels shown on both the bottom and the top:\n",
    "plt.tick_params(axis=\"x\", bottom=True, top=False, labelbottom=True, labeltop=True)\n",
    "cb = plt.colorbar()\n",
    "cb.ax.tick_params(labelsize=12) #size of colorbar labels\n",
    "plt.title('Correlation Matrix', fontsize=20, y=1.23); #y sets the title position vertically"
   ]
  },
  {
   "cell_type": "markdown",
   "metadata": {},
   "source": [
    "#2"
   ]
  },
  {
   "cell_type": "code",
   "execution_count": null,
   "metadata": {},
   "outputs": [],
   "source": [
    "from matplotlib.colors import ListedColormap\n",
    "from matplotlib import cm as cm\n",
    "\n",
    "cmap = ListedColormap(['c', 'b', 'w', 'r'])\n",
    "#other colors: 'b', 'g', 'r', 'c', 'm', 'y', 'k', 'w'\n",
    "#cmap=sns.diverging_palette(220, 10, as_cmap=True)\n",
    "\n",
    "fig = plt.figure(figsize=(15, 15))\n",
    "ax1 = fig.add_subplot(111)\n",
    "cax = ax1.imshow(billboard_weekly_df[corr_columns_index].corr(), interpolation=\"nearest\", cmap=cmap)\n",
    "ax1.grid(True)\n",
    "plt.title('Correlation Matrix',fontsize=20)\n",
    "labels=corr_columns_index\n",
    "ax1.set_xticks(np.arange(len(labels))) #display all the x labels\n",
    "ax1.set_yticks(np.arange(len(labels))) #display all the y labels\n",
    "ax1.set_xticklabels(labels,fontsize=10,rotation=90)\n",
    "ax1.set_yticklabels(labels,fontsize=10)\n",
    "# Add colorbar, make sure to specify tick locations to match desired ticklabels\n",
    "fig.colorbar(cax, ticks=[.75,.8,.85,.90,.95,1])\n",
    "plt.show()"
   ]
  },
  {
   "cell_type": "markdown",
   "metadata": {},
   "source": [
    "#3 Colored table"
   ]
  },
  {
   "cell_type": "code",
   "execution_count": null,
   "metadata": {},
   "outputs": [],
   "source": [
    "# import pandas.rpy.common as com\n",
    "# import seaborn as sns\n",
    "# %matplotlib inline\n",
    "\n",
    "# # load the R package ISLR\n",
    "# infert = com.importr(\"ISLR\")\n",
    "\n",
    "# calculate the correlation matrix\n",
    "#corr = billboard_weekly_df.iloc[:,10:].corr()\n",
    "corr = billboard_weekly_df[corr_columns_index].corr()\n",
    "\n",
    "# plot the heatmap\n",
    "# sns.heatmap(corr, \n",
    "#         xticklabels=corr.columns,\n",
    "#         yticklabels=corr.columns)\n",
    "\n",
    "cmap = cmap=sns.diverging_palette(5, 250, as_cmap=True) #color: 5, 250\n",
    "\n",
    "def magnify():\n",
    "    return [dict(selector=\"th\",\n",
    "                 props=[(\"font-size\", \"7pt\")]),\n",
    "            dict(selector=\"td\",\n",
    "                 props=[('padding', \"0em 0em\")]),\n",
    "            dict(selector=\"th:hover\",\n",
    "                 props=[(\"font-size\", \"12pt\")]),\n",
    "            dict(selector=\"tr:hover td:hover\",\n",
    "                 props=[('max-width', '200px'),\n",
    "                        ('font-size', '12pt')])\n",
    "]\n",
    "\n",
    "corr.style.background_gradient(cmap, axis=1)\\\n",
    "    .set_properties(**{'max-width': '80px', 'font-size': '10pt'})\\\n",
    "    .set_caption(\"Hover to magify\")\\\n",
    "    .set_precision(2)\\\n",
    "    .set_table_styles(magnify())"
   ]
  },
  {
   "cell_type": "markdown",
   "metadata": {},
   "source": [
    "# Features EDA: \n",
    "'acousticness', 'danceability', 'energy', 'instrumentalness', 'liveness', 'loudness', 'speechiness', 'valence', 'tempo'"
   ]
  },
  {
   "cell_type": "code",
   "execution_count": null,
   "metadata": {},
   "outputs": [],
   "source": [
    "#acousticness by month (test)\n",
    "plt.rcParams['figure.figsize'] = [150, 60]\n",
    "\n",
    "avg_acousticness_by_month = billboard_weekly_df.groupby('Year_Month')['acousticness'].mean()\n",
    "avg_acousticness_by_month\n",
    "avg_acousticness_by_month_plot = sns.barplot(x=avg_acousticness_by_month.index, y=avg_acousticness_by_month.values)\n",
    "avg_acousticness_by_month_plot.set_xticklabels(labels=avg_acousticness_by_month.index, rotation=90)\n",
    "avg_acousticness_by_month_plot.set(xlabel='Month', ylabel='Average Acousticness', title='Average Acousticness by Month, 1958-2019')\n",
    "plt.show()"
   ]
  },
  {
   "cell_type": "code",
   "execution_count": null,
   "metadata": {},
   "outputs": [],
   "source": [
    "#acousticness\n",
    "plt.rcParams['figure.figsize'] = [20, 8]\n",
    "\n",
    "avg_acousticness_by_year = billboard_weekly_df.groupby('Year')['acousticness'].mean()\n",
    "avg_acousticness_by_year\n",
    "avg_acousticness_by_year_plot = sns.barplot(x=avg_acousticness_by_year.index, y=avg_acousticness_by_year.values)\n",
    "avg_acousticness_by_year_plot.set_xticklabels(labels=avg_acousticness_by_year.index, rotation=90)\n",
    "avg_acousticness_by_year_plot.set(xlabel='Year', ylabel='Average Acousticness', title='Average Acousticness by Year, 1958-2019')\n",
    "plt.show()"
   ]
  },
  {
   "cell_type": "code",
   "execution_count": null,
   "metadata": {},
   "outputs": [],
   "source": [
    "#danceability\n",
    "#plt.rcParams['figure.figsize'] = [20, 8]\n",
    "\n",
    "avg_danceability_by_year = billboard_weekly_df.groupby('Year')['danceability'].mean()\n",
    "avg_danceability_by_year\n",
    "avg_danceability_by_year_plot = sns.barplot(x=avg_danceability_by_year.index, y=avg_danceability_by_year.values)\n",
    "avg_danceability_by_year_plot.set_xticklabels(labels=avg_danceability_by_year.index, rotation=90)\n",
    "avg_danceability_by_year_plot.set(xlabel='Year', ylabel='Average Danceability', title='Average Danceability by Year, 1958-2019')\n",
    "plt.show()"
   ]
  },
  {
   "cell_type": "code",
   "execution_count": null,
   "metadata": {},
   "outputs": [],
   "source": [
    "#energy\n",
    "#plt.rcParams['figure.figsize'] = [20, 8]\n",
    "\n",
    "avg_energy_by_year = billboard_weekly_df.groupby('Year')['energy'].mean()\n",
    "avg_energy_by_year\n",
    "avg_energy_by_year_plot = sns.barplot(x=avg_energy_by_year.index, y=avg_energy_by_year.values)\n",
    "avg_energy_by_year_plot.set_xticklabels(labels=avg_energy_by_year.index, rotation=90)\n",
    "avg_energy_by_year_plot.set(xlabel='Year', ylabel='Average Energy', title='Average Energy by Year, 1958-2019')\n",
    "plt.show()"
   ]
  },
  {
   "cell_type": "code",
   "execution_count": null,
   "metadata": {},
   "outputs": [],
   "source": [
    "#instrumentalness\n",
    "#plt.rcParams['figure.figsize'] = [20, 8]\n",
    "\n",
    "avg_instrumentalness_by_year = billboard_weekly_df.groupby('Year')['instrumentalness'].mean()\n",
    "avg_instrumentalness_by_year\n",
    "avg_instrumentalness_by_year_plot = sns.barplot(x=avg_instrumentalness_by_year.index, y=avg_instrumentalness_by_year.values)\n",
    "avg_instrumentalness_by_year_plot.set_xticklabels(labels=avg_instrumentalness_by_year.index, rotation=90)\n",
    "avg_instrumentalness_by_year_plot.set(xlabel='Year', ylabel='Average Instrumentalness', title='Average Instrumentalness by Year, 1958-2019')\n",
    "plt.show()"
   ]
  },
  {
   "cell_type": "code",
   "execution_count": null,
   "metadata": {},
   "outputs": [],
   "source": [
    "#liveness\n",
    "#plt.rcParams['figure.figsize'] = [20, 8]\n",
    "\n",
    "avg_liveness_by_year = billboard_weekly_df.groupby('Year')['liveness'].mean()\n",
    "avg_liveness_by_year\n",
    "avg_liveness_by_year_plot = sns.barplot(x=avg_liveness_by_year.index, y=avg_liveness_by_year.values)\n",
    "avg_liveness_by_year_plot.set_xticklabels(labels=avg_liveness_by_year.index, rotation=90)\n",
    "avg_liveness_by_year_plot.set(xlabel='Year', ylabel='Average Liveness', title='Average Liveness by Year, 1958-2019')\n",
    "plt.show()"
   ]
  },
  {
   "cell_type": "code",
   "execution_count": null,
   "metadata": {},
   "outputs": [],
   "source": [
    "#loudness\n",
    "#plt.rcParams['figure.figsize'] = [20, 8]\n",
    "\n",
    "avg_loudness_by_year = billboard_weekly_df.groupby('Year')['loudness'].mean()\n",
    "avg_loudness_by_year\n",
    "avg_loudness_by_year_plot = sns.barplot(x=avg_loudness_by_year.index, y=avg_loudness_by_year.values)\n",
    "avg_loudness_by_year_plot.set_xticklabels(labels=avg_loudness_by_year.index, rotation=90)\n",
    "avg_loudness_by_year_plot.set(xlabel='Year', ylabel='Average Loudness', title='Average Loudness by Year, 1958-2019')\n",
    "plt.show()"
   ]
  },
  {
   "cell_type": "code",
   "execution_count": null,
   "metadata": {},
   "outputs": [],
   "source": [
    "#speechiness\n",
    "#plt.rcParams['figure.figsize'] = [20, 8]\n",
    "\n",
    "avg_speechiness_by_year = billboard_weekly_df.groupby('Year')['speechiness'].mean()\n",
    "avg_speechiness_by_year\n",
    "avg_speechiness_by_year_plot = sns.barplot(x=avg_speechiness_by_year.index, y=avg_speechiness_by_year.values)\n",
    "avg_speechiness_by_year_plot.set_xticklabels(labels=avg_speechiness_by_year.index, rotation=90)\n",
    "avg_speechiness_by_year_plot.set(xlabel='Year', ylabel='Average Speechiness', title='Average Speechiness by Year, 1958-2019')\n",
    "plt.show()"
   ]
  },
  {
   "cell_type": "code",
   "execution_count": null,
   "metadata": {},
   "outputs": [],
   "source": [
    "#valence\n",
    "#plt.rcParams['figure.figsize'] = [20, 8]\n",
    "\n",
    "avg_valence_by_year = billboard_weekly_df.groupby('Year')['valence'].mean()\n",
    "avg_valence_by_year\n",
    "avg_valence_by_year_plot = sns.barplot(x=avg_valence_by_year.index, y=avg_valence_by_year.values)\n",
    "avg_valence_by_year_plot.set_xticklabels(labels=avg_valence_by_year.index, rotation=90)\n",
    "avg_valence_by_year_plot.set(xlabel='Year', ylabel='Average Valence', title='Average Valence by Year, 1958-2019')\n",
    "plt.show()"
   ]
  },
  {
   "cell_type": "code",
   "execution_count": null,
   "metadata": {},
   "outputs": [],
   "source": [
    "#tempo\n",
    "#plt.rcParams['figure.figsize'] = [20, 8]\n",
    "\n",
    "avg_tempo_by_year = billboard_weekly_df.groupby('Year')['tempo'].mean()\n",
    "avg_tempo_by_year\n",
    "avg_tempo_by_year_plot = sns.barplot(x=avg_tempo_by_year.index, y=avg_tempo_by_year.values)\n",
    "avg_tempo_by_year_plot.set_xticklabels(labels=avg_tempo_by_year.index, rotation=90)\n",
    "avg_tempo_by_year_plot.set(xlabel='Year', ylabel='Average Tempo', title='Average Tempo by Year, 1958-2019')\n",
    "plt.show()"
   ]
  },
  {
   "cell_type": "code",
   "execution_count": null,
   "metadata": {},
   "outputs": [],
   "source": [
    "sns.boxplot(x=billboard_weekly_df[\"Year\"], y=billboard_weekly_df[\"avg_tempo\"] )"
   ]
  },
  {
   "cell_type": "code",
   "execution_count": null,
   "metadata": {},
   "outputs": [],
   "source": [
    "#duration_ms\n",
    "#plt.rcParams['figure.figsize'] = [20, 8]\n",
    "\n",
    "avg_duration_by_year = billboard_weekly_df.groupby('Year')['duration_ms'].mean()\n",
    "avg_duration_by_year\n",
    "avg_duration_by_year_plot = sns.barplot(x=avg_duration_by_year.index, y=avg_duration_by_year.values)\n",
    "avg_duration_by_year_plot.set_xticklabels(labels=avg_duration_by_year.index, rotation=90)\n",
    "avg_duration_by_year_plot.set(xlabel='Year', ylabel='Average Duration', title='Average Duration by Year, 1958-2019')\n",
    "plt.show()"
   ]
  },
  {
   "cell_type": "code",
   "execution_count": null,
   "metadata": {},
   "outputs": [],
   "source": [
    "sns.boxplot(x=billboard_weekly_df[\"Year\"], y=billboard_weekly_df[\"duration_ms\"] )"
   ]
  },
  {
   "cell_type": "code",
   "execution_count": null,
   "metadata": {},
   "outputs": [],
   "source": [
    "#num_sections\n",
    "#plt.rcParams['figure.figsize'] = [20, 8]\n",
    "\n",
    "avg_num_sections_by_year = billboard_weekly_df.groupby('Year')['num_sections'].mean()\n",
    "avg_num_sections_by_year\n",
    "avg_num_sections_by_year_plot = sns.barplot(x=avg_num_sections_by_year.index, y=avg_num_sections_by_year.values)\n",
    "avg_num_sections_by_year_plot.set_xticklabels(labels=avg_num_sections_by_year.index, rotation=90)\n",
    "avg_num_sections_by_year_plot.set(xlabel='Year', ylabel='Average Number of Sections', title='Average Num of Sections by Year, 1958-2019')\n",
    "plt.show()"
   ]
  },
  {
   "cell_type": "code",
   "execution_count": null,
   "metadata": {},
   "outputs": [],
   "source": [
    "billboard_weekly_df['num_sections'].corr(billboard_weekly_df['duration_ms'])"
   ]
  },
  {
   "cell_type": "code",
   "execution_count": null,
   "metadata": {},
   "outputs": [],
   "source": [
    "billboard_weekly_df[['num_sections', 'duration_ms', 'key', 'mode', 'time_signature', 'acousticness',\n",
    "       'danceability', 'energy', 'instrumentalness', 'liveness', 'loudness',\n",
    "       'speechiness', 'valence', 'tempo']].corr()"
   ]
  },
  {
   "cell_type": "code",
   "execution_count": null,
   "metadata": {},
   "outputs": [],
   "source": []
  }
 ],
 "metadata": {
  "kernelspec": {
   "display_name": "Python 3",
   "language": "python",
   "name": "python3"
  },
  "language_info": {
   "codemirror_mode": {
    "name": "ipython",
    "version": 3
   },
   "file_extension": ".py",
   "mimetype": "text/x-python",
   "name": "python",
   "nbconvert_exporter": "python",
   "pygments_lexer": "ipython3",
   "version": "3.7.3"
  },
  "toc": {
   "base_numbering": 1,
   "nav_menu": {},
   "number_sections": true,
   "sideBar": true,
   "skip_h1_title": false,
   "title_cell": "Table of Contents",
   "title_sidebar": "Contents",
   "toc_cell": false,
   "toc_position": {},
   "toc_section_display": true,
   "toc_window_display": false
  }
 },
 "nbformat": 4,
 "nbformat_minor": 2
}
