{
 "cells": [
  {
   "cell_type": "code",
   "execution_count": null,
   "metadata": {},
   "outputs": [],
   "source": [
    "import numpy as np\n",
    "import pandas as pd\n",
    "import matplotlib.pyplot as plt\n",
    "import seaborn as sns \n",
    "import warnings\n",
    "from tqdm import tqdm\n",
    "from datetime import datetime\n",
    "import json\n",
    "from sklearn.preprocessing import LabelEncoder\n",
    "import calendar\n",
    "import spotipy\n",
    "warnings.filterwarnings(\"ignore\")"
   ]
  },
  {
   "cell_type": "code",
   "execution_count": null,
   "metadata": {},
   "outputs": [],
   "source": [
    "billboard_weekly_df = pd.read_csv(\"~/desktop/spotify_top_tracks_analysis/data/billboard_with_features_for_10000_samples.csv\")"
   ]
  },
  {
   "cell_type": "code",
   "execution_count": null,
   "metadata": {},
   "outputs": [],
   "source": [
    "billboard_weekly_df.columns"
   ]
  },
  {
   "cell_type": "code",
   "execution_count": null,
   "metadata": {},
   "outputs": [],
   "source": [
    "#add columns of datetime objects with date\n",
    "billboard_weekly_df['Date'] = pd.to_datetime(billboard_weekly_df['WeekID'])\n",
    "billboard_weekly_df['Year'] = billboard_weekly_df['Date'].apply(lambda x: x.year)"
   ]
  },
  {
   "cell_type": "code",
   "execution_count": null,
   "metadata": {},
   "outputs": [],
   "source": [
    "df['Year'] = df.apply(lambda x: custom_rating(x['Genre'],x['Rating']),axis=1)\n",
    "billboard[feature_names] = billboard['sp_id'].apply(lambda x: pd.Series(get_features_with_id(x, sp)))\n",
    "   "
   ]
  },
  {
   "cell_type": "code",
   "execution_count": null,
   "metadata": {},
   "outputs": [],
   "source": [
    "results = map(lambda x: x + 1, [1,2,3])\n",
    "print(list(results))"
   ]
  },
  {
   "cell_type": "code",
   "execution_count": null,
   "metadata": {},
   "outputs": [],
   "source": [
    "billboard_weekly_df.shape"
   ]
  },
  {
   "cell_type": "code",
   "execution_count": null,
   "metadata": {},
   "outputs": [],
   "source": [
    "billboard_weekly_df.head()"
   ]
  },
  {
   "cell_type": "markdown",
   "metadata": {},
   "source": [
    "# Correlation Plots"
   ]
  },
  {
   "cell_type": "code",
   "execution_count": null,
   "metadata": {},
   "outputs": [],
   "source": [
    "# plt.matshow(billboard_weekly_df.corr())\n",
    "# plt.xticks(range(billboard_weekly_df.shape[1]), billboard_weekly_df.columns)\n",
    "# plt.yticks(range(billboard_weekly_df.shape[1]), billboard_weekly_df.columns)\n",
    "# plt.colorbar()\n",
    "# plt.show()\n",
    "len(billboard_weekly_df.columns) == billboard_weekly_df.shape[1] #TRUE\n",
    "\n",
    "f = plt.figure(figsize=(15, 15))\n",
    "plt.matshow(billboard_weekly_df.corr(), fignum=f.number)\n",
    "plt.xticks(range(len(billboard_weekly_df.columns[10:])), billboard_weekly_df.columns[10:], fontsize=14, rotation=90)\n",
    "plt.yticks(range(len(billboard_weekly_df.columns[10:])), billboard_weekly_df.columns[10:], fontsize=14)\n",
    "cb = plt.colorbar()\n",
    "cb.ax.tick_params(labelsize=14)\n",
    "plt.title('Correlation Matrix', fontsize=16);"
   ]
  },
  {
   "cell_type": "code",
   "execution_count": null,
   "metadata": {},
   "outputs": [],
   "source": [
    "from matplotlib import pyplot as plt\n",
    "from matplotlib import cm as cm\n",
    "\n",
    "fig = plt.figure()\n",
    "ax1 = fig.add_subplot(111)\n",
    "cmap = cm.get_cmap('hot', 30)\n",
    "cax = ax1.imshow(billboard_weekly_df.corr(), interpolation=\"nearest\", cmap=cmap)\n",
    "ax1.grid(True)\n",
    "plt.title('Spotify Features Correlation')\n",
    "labels=billboard_weekly_df.columns\n",
    "ax1.set_xticklabels(labels,fontsize=6)\n",
    "ax1.set_yticklabels(labels,fontsize=6)\n",
    "# Add colorbar, make sure to specify tick locations to match desired ticklabels\n",
    "fig.colorbar(cax, ticks=[.75,.8,.85,.90,.95,1])\n",
    "plt.show()"
   ]
  },
  {
   "cell_type": "code",
   "execution_count": null,
   "metadata": {},
   "outputs": [],
   "source": [
    "# import pandas.rpy.common as com\n",
    "# import seaborn as sns\n",
    "# %matplotlib inline\n",
    "\n",
    "# # load the R package ISLR\n",
    "# infert = com.importr(\"ISLR\")\n",
    "\n",
    "# calculate the correlation matrix\n",
    "corr = billboard_weekly_df.iloc[:,10:].corr()\n",
    "\n",
    "# plot the heatmap\n",
    "# sns.heatmap(corr, \n",
    "#         xticklabels=corr.columns,\n",
    "#         yticklabels=corr.columns)\n",
    "\n",
    "cmap = cmap=sns.diverging_palette(5, 250, as_cmap=True)\n",
    "\n",
    "def magnify():\n",
    "    return [dict(selector=\"th\",\n",
    "                 props=[(\"font-size\", \"7pt\")]),\n",
    "            dict(selector=\"td\",\n",
    "                 props=[('padding', \"0em 0em\")]),\n",
    "            dict(selector=\"th:hover\",\n",
    "                 props=[(\"font-size\", \"12pt\")]),\n",
    "            dict(selector=\"tr:hover td:hover\",\n",
    "                 props=[('max-width', '200px'),\n",
    "                        ('font-size', '12pt')])\n",
    "]\n",
    "\n",
    "corr.style.background_gradient(cmap, axis=1)\\\n",
    "    .set_properties(**{'max-width': '80px', 'font-size': '10pt'})\\\n",
    "    .set_caption(\"Hover to magify\")\\\n",
    "    .set_precision(2)\\\n",
    "    .set_table_styles(magnify())"
   ]
  },
  {
   "cell_type": "code",
   "execution_count": null,
   "metadata": {},
   "outputs": [],
   "source": [
    "billboard_weekly_df.columns[10:]"
   ]
  },
  {
   "cell_type": "markdown",
   "metadata": {},
   "source": [
    "# Features EDA: \n",
    "'acousticness', 'danceability', 'energy', 'instrumentalness', 'liveness', 'loudness', 'speechiness', 'valence', 'tempo'"
   ]
  },
  {
   "cell_type": "code",
   "execution_count": null,
   "metadata": {},
   "outputs": [],
   "source": [
    "#acousticness\n",
    "#plt.rcParams['figure.figsize'] = [20, 8]\n",
    "\n",
    "avg_acousticness_by_year = billboard_weekly_df.groupby('Year')['acousticness'].mean()\n",
    "avg_acousticness_by_year\n",
    "avg_acousticness_by_year_plot = sns.barplot(x=avg_acousticness_by_year.index, y=avg_acousticness_by_year.values)\n",
    "avg_acousticness_by_year_plot.set_xticklabels(labels=avg_acousticness_by_year.index, rotation=90)\n",
    "avg_acousticness_by_year_plot.set(xlabel='Year', ylabel='Average Acousticness', title='Average Acousticness by Year, 1958-2019')\n",
    "plt.show()"
   ]
  },
  {
   "cell_type": "code",
   "execution_count": null,
   "metadata": {},
   "outputs": [],
   "source": [
    "#danceability\n",
    "#plt.rcParams['figure.figsize'] = [20, 8]\n",
    "\n",
    "avg_danceability_by_year = billboard_weekly_df.groupby('Year')['danceability'].mean()\n",
    "avg_danceability_by_year\n",
    "avg_danceability_by_year_plot = sns.barplot(x=avg_danceability_by_year.index, y=avg_danceability_by_year.values)\n",
    "avg_danceability_by_year_plot.set_xticklabels(labels=avg_danceability_by_year.index, rotation=90)\n",
    "avg_danceability_by_year_plot.set(xlabel='Year', ylabel='Average Danceability', title='Average Danceability by Year, 1958-2019')\n",
    "plt.show()"
   ]
  },
  {
   "cell_type": "code",
   "execution_count": null,
   "metadata": {},
   "outputs": [],
   "source": [
    "#energy\n",
    "#plt.rcParams['figure.figsize'] = [20, 8]\n",
    "\n",
    "avg_energy_by_year = billboard_weekly_df.groupby('Year')['energy'].mean()\n",
    "avg_energy_by_year\n",
    "avg_energy_by_year_plot = sns.barplot(x=avg_energy_by_year.index, y=avg_energy_by_year.values)\n",
    "avg_energy_by_year_plot.set_xticklabels(labels=avg_energy_by_year.index, rotation=90)\n",
    "avg_energy_by_year_plot.set(xlabel='Year', ylabel='Average Energy', title='Average Energy by Year, 1958-2019')\n",
    "plt.show()"
   ]
  },
  {
   "cell_type": "code",
   "execution_count": null,
   "metadata": {},
   "outputs": [],
   "source": [
    "#instrumentalness\n",
    "#plt.rcParams['figure.figsize'] = [20, 8]\n",
    "\n",
    "avg_instrumentalness_by_year = billboard_weekly_df.groupby('Year')['instrumentalness'].mean()\n",
    "avg_instrumentalness_by_year\n",
    "avg_instrumentalness_by_year_plot = sns.barplot(x=avg_instrumentalness_by_year.index, y=avg_instrumentalness_by_year.values)\n",
    "avg_instrumentalness_by_year_plot.set_xticklabels(labels=avg_instrumentalness_by_year.index, rotation=90)\n",
    "avg_instrumentalness_by_year_plot.set(xlabel='Year', ylabel='Average Instrumentalness', title='Average Instrumentalness by Year, 1958-2019')\n",
    "plt.show()"
   ]
  },
  {
   "cell_type": "code",
   "execution_count": null,
   "metadata": {},
   "outputs": [],
   "source": [
    "#liveness\n",
    "#plt.rcParams['figure.figsize'] = [20, 8]\n",
    "\n",
    "avg_liveness_by_year = billboard_weekly_df.groupby('Year')['liveness'].mean()\n",
    "avg_liveness_by_year\n",
    "avg_liveness_by_year_plot = sns.barplot(x=avg_liveness_by_year.index, y=avg_liveness_by_year.values)\n",
    "avg_liveness_by_year_plot.set_xticklabels(labels=avg_liveness_by_year.index, rotation=90)\n",
    "avg_liveness_by_year_plot.set(xlabel='Year', ylabel='Average Liveness', title='Average Liveness by Year, 1958-2019')\n",
    "plt.show()"
   ]
  },
  {
   "cell_type": "code",
   "execution_count": null,
   "metadata": {},
   "outputs": [],
   "source": [
    "#loudness\n",
    "#plt.rcParams['figure.figsize'] = [20, 8]\n",
    "\n",
    "avg_loudness_by_year = billboard_weekly_df.groupby('Year')['loudness'].mean()\n",
    "avg_loudness_by_year\n",
    "avg_loudness_by_year_plot = sns.barplot(x=avg_loudness_by_year.index, y=avg_loudness_by_year.values)\n",
    "avg_loudness_by_year_plot.set_xticklabels(labels=avg_loudness_by_year.index, rotation=90)\n",
    "avg_loudness_by_year_plot.set(xlabel='Year', ylabel='Average Loudness', title='Average Loudness by Year, 1958-2019')\n",
    "plt.show()"
   ]
  },
  {
   "cell_type": "code",
   "execution_count": null,
   "metadata": {},
   "outputs": [],
   "source": [
    "#speechiness\n",
    "#plt.rcParams['figure.figsize'] = [20, 8]\n",
    "\n",
    "avg_speechiness_by_year = billboard_weekly_df.groupby('Year')['speechiness'].mean()\n",
    "avg_speechiness_by_year\n",
    "avg_speechiness_by_year_plot = sns.barplot(x=avg_speechiness_by_year.index, y=avg_speechiness_by_year.values)\n",
    "avg_speechiness_by_year_plot.set_xticklabels(labels=avg_speechiness_by_year.index, rotation=90)\n",
    "avg_speechiness_by_year_plot.set(xlabel='Year', ylabel='Average Speechiness', title='Average Speechiness by Year, 1958-2019')\n",
    "plt.show()"
   ]
  },
  {
   "cell_type": "code",
   "execution_count": null,
   "metadata": {},
   "outputs": [],
   "source": [
    "#valence\n",
    "#plt.rcParams['figure.figsize'] = [20, 8]\n",
    "\n",
    "avg_valence_by_year = billboard_weekly_df.groupby('Year')['valence'].mean()\n",
    "avg_valence_by_year\n",
    "avg_valence_by_year_plot = sns.barplot(x=avg_valence_by_year.index, y=avg_valence_by_year.values)\n",
    "avg_valence_by_year_plot.set_xticklabels(labels=avg_valence_by_year.index, rotation=90)\n",
    "avg_valence_by_year_plot.set(xlabel='Year', ylabel='Average Valence', title='Average Valence by Year, 1958-2019')\n",
    "plt.show()"
   ]
  },
  {
   "cell_type": "code",
   "execution_count": null,
   "metadata": {},
   "outputs": [],
   "source": [
    "#tempo\n",
    "#plt.rcParams['figure.figsize'] = [20, 8]\n",
    "\n",
    "avg_tempo_by_year = billboard_weekly_df.groupby('Year')['tempo'].mean()\n",
    "avg_tempo_by_year\n",
    "avg_tempo_by_year_plot = sns.barplot(x=avg_tempo_by_year.index, y=avg_tempo_by_year.values)\n",
    "avg_tempo_by_year_plot.set_xticklabels(labels=avg_tempo_by_year.index, rotation=90)\n",
    "avg_tempo_by_year_plot.set(xlabel='Year', ylabel='Average Tempo', title='Average Tempo by Year, 1958-2019')\n",
    "plt.show()"
   ]
  },
  {
   "cell_type": "code",
   "execution_count": null,
   "metadata": {},
   "outputs": [],
   "source": [
    "sns.boxplot(x=billboard_weekly_df[\"Year\"], y=billboard_weekly_df[\"avg_tempo\"] )"
   ]
  },
  {
   "cell_type": "code",
   "execution_count": null,
   "metadata": {},
   "outputs": [],
   "source": [
    "#duration_ms\n",
    "#plt.rcParams['figure.figsize'] = [20, 8]\n",
    "\n",
    "avg_duration_by_year = billboard_weekly_df.groupby('Year')['duration_ms'].mean()\n",
    "avg_duration_by_year\n",
    "avg_duration_by_year_plot = sns.barplot(x=avg_duration_by_year.index, y=avg_duration_by_year.values)\n",
    "avg_duration_by_year_plot.set_xticklabels(labels=avg_duration_by_year.index, rotation=90)\n",
    "avg_duration_by_year_plot.set(xlabel='Year', ylabel='Average Duration', title='Average Duration by Year, 1958-2019')\n",
    "plt.show()"
   ]
  },
  {
   "cell_type": "code",
   "execution_count": null,
   "metadata": {},
   "outputs": [],
   "source": [
    "sns.boxplot(x=billboard_weekly_df[\"Year\"], y=billboard_weekly_df[\"duration_ms\"] )"
   ]
  },
  {
   "cell_type": "code",
   "execution_count": null,
   "metadata": {},
   "outputs": [],
   "source": [
    "#num_sections\n",
    "#plt.rcParams['figure.figsize'] = [20, 8]\n",
    "\n",
    "avg_num_sections_by_year = billboard_weekly_df.groupby('Year')['num_sections'].mean()\n",
    "avg_num_sections_by_year\n",
    "avg_num_sections_by_year_plot = sns.barplot(x=avg_num_sections_by_year.index, y=avg_num_sections_by_year.values)\n",
    "avg_num_sections_by_year_plot.set_xticklabels(labels=avg_num_sections_by_year.index, rotation=90)\n",
    "avg_num_sections_by_year_plot.set(xlabel='Year', ylabel='Average Number of Sections', title='Average Num of Sections by Year, 1958-2019')\n",
    "plt.show()"
   ]
  },
  {
   "cell_type": "code",
   "execution_count": null,
   "metadata": {},
   "outputs": [],
   "source": [
    "billboard_weekly_df['num_sections'].corr(billboard_weekly_df['duration_ms'])"
   ]
  },
  {
   "cell_type": "code",
   "execution_count": null,
   "metadata": {},
   "outputs": [],
   "source": [
    "billboard_weekly_df[['num_sections', 'duration_ms', 'key', 'mode', 'time_signature', 'acousticness',\n",
    "       'danceability', 'energy', 'instrumentalness', 'liveness', 'loudness',\n",
    "       'speechiness', 'valence', 'tempo']].corr()"
   ]
  },
  {
   "cell_type": "code",
   "execution_count": null,
   "metadata": {},
   "outputs": [],
   "source": []
  }
 ],
 "metadata": {
  "kernelspec": {
   "display_name": "Python 3",
   "language": "python",
   "name": "python3"
  },
  "language_info": {
   "codemirror_mode": {
    "name": "ipython",
    "version": 3
   },
   "file_extension": ".py",
   "mimetype": "text/x-python",
   "name": "python",
   "nbconvert_exporter": "python",
   "pygments_lexer": "ipython3",
   "version": "3.7.3"
  },
  "toc": {
   "base_numbering": 1,
   "nav_menu": {},
   "number_sections": true,
   "sideBar": true,
   "skip_h1_title": false,
   "title_cell": "Table of Contents",
   "title_sidebar": "Contents",
   "toc_cell": false,
   "toc_position": {},
   "toc_section_display": true,
   "toc_window_display": false
  }
 },
 "nbformat": 4,
 "nbformat_minor": 2
}
