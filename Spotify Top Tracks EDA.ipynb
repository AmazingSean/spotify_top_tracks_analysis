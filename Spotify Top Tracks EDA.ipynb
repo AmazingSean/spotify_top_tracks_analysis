{
 "cells": [
  {
   "cell_type": "code",
   "execution_count": null,
   "metadata": {},
   "outputs": [],
   "source": [
    "import numpy as np\n",
    "import pandas as pd\n",
    "import matplotlib.pyplot as plt\n",
    "import seaborn as sns \n",
    "import warnings\n",
    "from tqdm import tqdm\n",
    "from datetime import datetime\n",
    "import json\n",
    "from sklearn.preprocessing import LabelEncoder\n",
    "import calendar\n",
    "import spotipy\n",
    "warnings.filterwarnings(\"ignore\")"
   ]
  },
  {
   "cell_type": "markdown",
   "metadata": {},
   "source": [
    "# Web scrapping data from Spotify Chart"
   ]
  },
  {
   "cell_type": "markdown",
   "metadata": {},
   "source": [
    "## Get date needed for each week"
   ]
  },
  {
   "cell_type": "markdown",
   "metadata": {},
   "source": [
    "format of links to download:\n",
    "https://spotifycharts.com/regional/global/weekly/2016-12-23--2016-12-30/download\n",
    "https://spotifycharts.com/regional/global/weekly/2016-12-30--2017-01-06/download\n",
    "\n",
    "We see that all the dates that appear in the link are Fridays, each being one week apart"
   ]
  },
  {
   "cell_type": "code",
   "execution_count": null,
   "metadata": {},
   "outputs": [],
   "source": [
    "#An example of Calendar package\n",
    "x = []\n",
    "\n",
    "for month in range(1, 13):\n",
    "    mycal = calendar.monthcalendar(2025, month)\n",
    "    week1 = mycal[1]\n",
    "    week2 = mycal[2]\n",
    "      \n",
    "    if week1[calendar.MONDAY] != 0:\n",
    "        auditday = week1[calendar.MONDAY]\n",
    "    else: \n",
    "        auditday = week2[calendar.MONDAY] \n",
    "    print(\"%10s %2d\" % (calendar.month_name[month], auditday))\n",
    "    x.append(\"%10s %2d\" % (calendar.month_name[month], auditday))"
   ]
  },
  {
   "cell_type": "code",
   "execution_count": null,
   "metadata": {},
   "outputs": [],
   "source": [
    "# reference\n",
    "c = calendar.TextCalendar(calendar.MONDAY)\n",
    "str1 = c.formatmonth(2017,1)\n",
    "print(str1)"
   ]
  },
  {
   "cell_type": "code",
   "execution_count": null,
   "metadata": {},
   "outputs": [],
   "source": [
    "(calendar.monthcalendar(2017,1)[0][calendar.FRIDAY],calendar.monthcalendar(2017,1)[4][calendar.FRIDAY])\n",
    "#calendar.monthcalendar(2017,1)[c(0,4)][calendar.FRIDAY]"
   ]
  },
  {
   "cell_type": "code",
   "execution_count": null,
   "metadata": {},
   "outputs": [],
   "source": [
    "#All the fridays in 2017\n",
    "Fridays17 = []\n",
    "\n",
    "for month in range(1, 13):\n",
    "    mycal = calendar.monthcalendar(2017, month)\n",
    "    \n",
    "    for week in range(0,len(mycal)):\n",
    "        if mycal[week][calendar.FRIDAY] != 0:\n",
    "            #print(2017, month, mycal[week][calendar.FRIDAY])\n",
    "            Fridays17.append((2017, month, mycal[week][calendar.FRIDAY]))\n",
    "            \n",
    "            \n",
    "Fridays17[0]"
   ]
  },
  {
   "cell_type": "code",
   "execution_count": null,
   "metadata": {},
   "outputs": [],
   "source": [
    "#All the fridays in 2018\n",
    "Fridays18 = []\n",
    "\n",
    "for month in range(1, 13):\n",
    "    mycal = calendar.monthcalendar(2018, month)\n",
    "    \n",
    "    for week in range(0,len(mycal)):\n",
    "        if mycal[week][calendar.FRIDAY] != 0:\n",
    "            #print(2018, month, mycal[week][calendar.FRIDAY])\n",
    "            Fridays18.append((2018, month, mycal[week][calendar.FRIDAY]))\n",
    "\n",
    "\n",
    "Fridays18[0][2]"
   ]
  },
  {
   "cell_type": "code",
   "execution_count": null,
   "metadata": {},
   "outputs": [],
   "source": [
    "#fridays in 2019 (Jan to Aug)\n",
    "Fridays19 = []\n",
    "\n",
    "for month in range(1, 9):\n",
    "    mycal = calendar.monthcalendar(2019, month)\n",
    "    \n",
    "    for week in range(0,len(mycal)):\n",
    "        if mycal[week][calendar.FRIDAY] != 0:\n",
    "            #print(2019, month, mycal[week][calendar.FRIDAY])\n",
    "            Fridays19.append((2019, month, mycal[week][calendar.FRIDAY]))\n",
    "\n",
    "Fridays19[2]"
   ]
  },
  {
   "cell_type": "code",
   "execution_count": null,
   "metadata": {},
   "outputs": [],
   "source": [
    "#Fridays in 2016\n",
    "Fridays16to19 = [(2016, 12, 23),(2016, 12, 30)]\n",
    "\n",
    "#Compile all the fridays 2016-2019\n",
    "Fridays16to19 = Fridays16to19 + Fridays17 + Fridays18 + Fridays19\n",
    "Fridays16to19[0]"
   ]
  },
  {
   "cell_type": "code",
   "execution_count": null,
   "metadata": {},
   "outputs": [],
   "source": [
    "#formatting friday dates: 2016-12-23--2016-12-30\n",
    "\n",
    "Fridays_format = []\n",
    "\n",
    "for i in range(0, len(Fridays16to19)):\n",
    "    year = Fridays16to19[i][0]\n",
    "    month = Fridays16to19[i][1]\n",
    "    day = Fridays16to19[i][2]  \n",
    "    \n",
    "    if month < 10:\n",
    "        month = str(0)+str(month)\n",
    "    else:\n",
    "        month = str(month)\n",
    "        \n",
    "    if day < 10:\n",
    "        day = str(0)+str(day)\n",
    "    else:\n",
    "        day = str(day)\n",
    "    \n",
    "    #print(str(year)+\"-\"+month+\"-\"+day)\n",
    "    Fridays_format.append(str(year)+\"-\"+month+\"-\"+day)\n",
    "    \n",
    "Fridays_format[0]"
   ]
  },
  {
   "cell_type": "code",
   "execution_count": null,
   "metadata": {},
   "outputs": [],
   "source": [
    "#put all the dates into the format of download link: \n",
    "#https://spotifycharts.com/regional/global/weekly/2016-12-23--2016-12-30/download\n",
    "\n",
    "####################IndexError: list index out of range\n",
    "# for j in range(0, len(Fridays_format)):\n",
    "#     str_p1 = \"https://spotifycharts.com/regional/global/weekly/\" + Fridays_format[j] + \"--\"\n",
    "#     if j != len(Fridays_format):\n",
    "#         print(str_p1 + Fridays_format[j+1] + \"/download\")\n",
    "        \n",
    "# for j in range(0, len(Fridays_format)):\n",
    "#     print(\"https://spotifycharts.com/regional/global/weekly/\" + Fridays_format[j] \n",
    "#           + \"--\" + Fridays_format[j+1] + \"/download\")\n",
    "\n",
    "\n",
    "final_df = pd.DataFrame(columns=['Position', 'Track', 'Artist', 'Streams', 'URL', 'Year', 'Month', 'Day’])\n",
    "for first_date, second_date in zip(Fridays_format, Fridays_format[1:]):\n",
    "    # Get url:\n",
    "    url = \"https://spotifycharts.com/regional/global/weekly/\\\" + first_date + \\\"--\\\" + second_date +\\\"download\\\"\n",
    "     data = io.StringIO(requests.get(url).text)\n",
    "    file = requests.get(url, allow_redirects=True)\n",
    "    data = io.StringIO(requests.get(url).text)\n",
    "    df = pd.read_csv(data, skiprows=1, error_bad_lines=False)\n",
    "    # some cleaning:\n",
    "    print(df.columns)\n",
    "    df = df.iloc[:, [0,1,2,3,4]]\n",
    "    df.columns = ['Position', 'Track', 'Artist', 'Streams', 'URL']\n",
    "    print(df.columns)\n",
    "    print(df['Track'])\n",
    "    df['Track'] = df['Track'].apply(lambda x: x.strip('\\\\\\\"'))\n",
    "    df['Artist'] = df['Artist'].apply(lambda x: x.strip('\\\\\\\"'))\n",
    "\n",
    "    df['Year'] = second_date.split('-')[0]\n",
    "    df['Month'] = second_date.split('-')[1]\n",
    "    df['Day'] = second_date.split('-')[2]\n",
    "                                 \n",
    "    final_df = pd.concat([final_df, df], sort=False)\n"
   ]
  },
  {
   "cell_type": "code",
   "execution_count": null,
   "metadata": {},
   "outputs": [],
   "source": [
    "final_df = final_df.drop(columns=['Track', '<html>'])\n",
    "# final_df.to_csv('spotify_charts.csv')"
   ]
  },
  {
   "cell_type": "markdown",
   "metadata": {},
   "source": [
    "## Billboard Dataset"
   ]
  },
  {
   "cell_type": "code",
   "execution_count": null,
   "metadata": {},
   "outputs": [],
   "source": [
    "import csv\n",
    "import pandas as pd\n",
    "\n",
    "billboard_df = pd.read_csv(\"~/desktop/spotify_top_tracks_analysis/data/billboard_lyrics_1964-2015.csv\",\n",
    "                   encoding='latin-1')\n",
    "billboard_df.head()\n",
    "\n",
    "#billboard_df.describe()"
   ]
  },
  {
   "cell_type": "code",
   "execution_count": null,
   "metadata": {},
   "outputs": [],
   "source": [
    "billboard_df.iloc[[4],[4]]"
   ]
  },
  {
   "cell_type": "code",
   "execution_count": null,
   "metadata": {},
   "outputs": [],
   "source": [
    "billboard_df"
   ]
  },
  {
   "cell_type": "markdown",
   "metadata": {},
   "source": [
    "## spotipy"
   ]
  },
  {
   "cell_type": "code",
   "execution_count": null,
   "metadata": {},
   "outputs": [],
   "source": [
    "#setting up spotipy\n",
    "import sys\n",
    "import spotipy\n",
    "import spotipy.util as util\n",
    "\n",
    "scope = 'user-library-read'\n",
    "\n",
    "if len(sys.argv) > 1:\n",
    "    username = sys.argv[1]\n",
    "else:\n",
    "    print (\"Usage: %s username\" % (sys.argv[0],))\n",
    "    sys.exit()\n",
    "    \n",
    "token = util.prompt_for_user_token(username,scope,client_id='ff9ff248e80e428bbb9796e1a7d62aeb',\n",
    "                                   client_secret='7f70a7c884494c6c96d2e6f03c4d2388', redirect_uri='http://localhost/')"
   ]
  },
  {
   "cell_type": "code",
   "execution_count": null,
   "metadata": {},
   "outputs": [],
   "source": [
    "sp = spotipy.Spotify(auth=token)"
   ]
  },
  {
   "cell_type": "code",
   "execution_count": null,
   "metadata": {},
   "outputs": [],
   "source": [
    "name = 'Shawn Mendes'\n",
    "\n",
    "results = sp.search(q='artist:' + name, type='artist')\n",
    "print(results)"
   ]
  },
  {
   "cell_type": "code",
   "execution_count": null,
   "metadata": {},
   "outputs": [],
   "source": []
  },
  {
   "cell_type": "markdown",
   "metadata": {},
   "source": [
    "### Feature Engineering"
   ]
  },
  {
   "cell_type": "code",
   "execution_count": null,
   "metadata": {},
   "outputs": [],
   "source": [
    "# try multiple assignment:\n",
    "import pandas as pd\n",
    "df_list = [[1,2,3], [4,5,6],[8,9,9]]\n",
    "df = pd.DataFrame(df_list)\n",
    "df"
   ]
  },
  {
   "cell_type": "code",
   "execution_count": null,
   "metadata": {},
   "outputs": [],
   "source": [
    "df.columns = ['one', 'two', 'three']"
   ]
  },
  {
   "cell_type": "code",
   "execution_count": null,
   "metadata": {},
   "outputs": [],
   "source": [
    "def get_variables(num):\n",
    "    return num+1, num+2, num+3, num+4"
   ]
  },
  {
   "cell_type": "code",
   "execution_count": null,
   "metadata": {},
   "outputs": [],
   "source": [
    "import numpy as np\n",
    "column_names = ['four', 'five', 'six', 'seven']\n",
    "pd.concat([df,pd.DataFrame(columns=column_names)], sort=False)"
   ]
  },
  {
   "cell_type": "code",
   "execution_count": null,
   "metadata": {},
   "outputs": [],
   "source": [
    "df[column_names] = df['one'].apply(lambda x: pd.Series(get_variables(x)))"
   ]
  },
  {
   "cell_type": "code",
   "execution_count": null,
   "metadata": {},
   "outputs": [],
   "source": [
    "df['four'] = None\n",
    "df['five'] = None\n",
    "df['six'] = None"
   ]
  },
  {
   "cell_type": "code",
   "execution_count": null,
   "metadata": {},
   "outputs": [],
   "source": [
    "df"
   ]
  },
  {
   "cell_type": "code",
   "execution_count": null,
   "metadata": {},
   "outputs": [],
   "source": []
  }
 ],
 "metadata": {
  "kernelspec": {
   "display_name": "Python [conda env:spotipy] *",
   "language": "python",
   "name": "conda-env-spotipy-py"
  },
  "language_info": {
   "codemirror_mode": {
    "name": "ipython",
    "version": 3
   },
   "file_extension": ".py",
   "mimetype": "text/x-python",
   "name": "python",
   "nbconvert_exporter": "python",
   "pygments_lexer": "ipython3",
   "version": "3.6.9"
  },
  "toc": {
   "base_numbering": 1,
   "nav_menu": {},
   "number_sections": true,
   "sideBar": true,
   "skip_h1_title": false,
   "title_cell": "Table of Contents",
   "title_sidebar": "Contents",
   "toc_cell": false,
   "toc_position": {},
   "toc_section_display": true,
   "toc_window_display": false
  }
 },
 "nbformat": 4,
 "nbformat_minor": 2
}
