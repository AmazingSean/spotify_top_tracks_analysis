{
 "cells": [
  {
   "cell_type": "code",
   "execution_count": 1,
   "metadata": {},
   "outputs": [],
   "source": [
    "import numpy as np\n",
    "import pandas as pd\n",
    "import matplotlib.pyplot as plt\n",
    "import seaborn as sns \n",
    "import warnings\n",
    "from tqdm import tqdm\n",
    "from datetime import datetime\n",
    "import json\n",
    "from sklearn.preprocessing import LabelEncoder\n",
    "import calendar\n",
    "import datetime\n",
    "warnings.filterwarnings(\"ignore\")"
   ]
  },
  {
   "cell_type": "markdown",
   "metadata": {},
   "source": [
    "# Web scrapping data from Spotify Chart"
   ]
  },
  {
   "cell_type": "markdown",
   "metadata": {},
   "source": [
    "## Get date needed for each week"
   ]
  },
  {
   "cell_type": "markdown",
   "metadata": {},
   "source": [
    "format of links to download:\n",
    "https://spotifycharts.com/regional/global/weekly/2016-12-23--2016-12-30/download\n",
    "https://spotifycharts.com/regional/global/weekly/2016-12-30--2017-01-06/download\n",
    "\n",
    "We see that all the dates that appear in the link are Fridays, each being one week apart"
   ]
  },
  {
   "cell_type": "code",
   "execution_count": 23,
   "metadata": {},
   "outputs": [
    {
     "name": "stdout",
     "output_type": "stream",
     "text": [
      "   January  6\n",
      "  February  3\n",
      "     March  3\n",
      "     April  7\n",
      "       May  5\n",
      "      June  2\n",
      "      July  7\n",
      "    August  4\n",
      " September  8\n",
      "   October  6\n",
      "  November  3\n",
      "  December  8\n"
     ]
    }
   ],
   "source": [
    "#An example of Calendar package\n",
    "x = []\n",
    "\n",
    "for month in range(1, 13):\n",
    "    mycal = calendar.monthcalendar(2025, month)\n",
    "    week1 = mycal[1]\n",
    "    week2 = mycal[2]\n",
    "      \n",
    "    if week1[calendar.MONDAY] != 0:\n",
    "        auditday = week1[calendar.MONDAY]\n",
    "    else: \n",
    "        auditday = week2[calendar.MONDAY] \n",
    "    print(\"%10s %2d\" % (calendar.month_name[month], auditday))\n",
    "    x.append(\"%10s %2d\" % (calendar.month_name[month], auditday))"
   ]
  },
  {
   "cell_type": "code",
   "execution_count": 4,
   "metadata": {},
   "outputs": [
    {
     "name": "stdout",
     "output_type": "stream",
     "text": [
      "    January 2017\n",
      "Mo Tu We Th Fr Sa Su\n",
      "                   1\n",
      " 2  3  4  5  6  7  8\n",
      " 9 10 11 12 13 14 15\n",
      "16 17 18 19 20 21 22\n",
      "23 24 25 26 27 28 29\n",
      "30 31\n",
      "\n"
     ]
    }
   ],
   "source": [
    "# reference\n",
    "c = calendar.TextCalendar(calendar.MONDAY)\n",
    "str1 = c.formatmonth(2017,1)\n",
    "print(str1)"
   ]
  },
  {
   "cell_type": "code",
   "execution_count": 5,
   "metadata": {},
   "outputs": [
    {
     "data": {
      "text/plain": [
       "(0, 27)"
      ]
     },
     "execution_count": 5,
     "metadata": {},
     "output_type": "execute_result"
    }
   ],
   "source": [
    "(calendar.monthcalendar(2017,1)[0][calendar.FRIDAY],calendar.monthcalendar(2017,1)[4][calendar.FRIDAY])\n",
    "#calendar.monthcalendar(2017,1)[c(0,4)][calendar.FRIDAY]"
   ]
  },
  {
   "cell_type": "code",
   "execution_count": 6,
   "metadata": {},
   "outputs": [
    {
     "data": {
      "text/plain": [
       "(2017, 1, 6)"
      ]
     },
     "execution_count": 6,
     "metadata": {},
     "output_type": "execute_result"
    }
   ],
   "source": [
    "#All the fridays in 2017\n",
    "Fridays17 = []\n",
    "\n",
    "for month in range(1, 13):\n",
    "    mycal = calendar.monthcalendar(2017, month)\n",
    "    \n",
    "    for week in range(0,len(mycal)):\n",
    "        if mycal[week][calendar.FRIDAY] != 0:\n",
    "            #print(2017, month, mycal[week][calendar.FRIDAY])\n",
    "            Fridays17.append((2017, month, mycal[week][calendar.FRIDAY]))\n",
    "            \n",
    "            \n",
    "Fridays17[0]"
   ]
  },
  {
   "cell_type": "code",
   "execution_count": 7,
   "metadata": {},
   "outputs": [
    {
     "data": {
      "text/plain": [
       "5"
      ]
     },
     "execution_count": 7,
     "metadata": {},
     "output_type": "execute_result"
    }
   ],
   "source": [
    "#All the fridays in 2018\n",
    "Fridays18 = []\n",
    "\n",
    "for month in range(1, 13):\n",
    "    mycal = calendar.monthcalendar(2018, month)\n",
    "    \n",
    "    for week in range(0,len(mycal)):\n",
    "        if mycal[week][calendar.FRIDAY] != 0:\n",
    "            #print(2018, month, mycal[week][calendar.FRIDAY])\n",
    "            Fridays18.append((2018, month, mycal[week][calendar.FRIDAY]))\n",
    "\n",
    "\n",
    "Fridays18[0][2]"
   ]
  },
  {
   "cell_type": "code",
   "execution_count": 8,
   "metadata": {},
   "outputs": [
    {
     "data": {
      "text/plain": [
       "(2019, 1, 18)"
      ]
     },
     "execution_count": 8,
     "metadata": {},
     "output_type": "execute_result"
    }
   ],
   "source": [
    "#fridays in 2019 (Jan to Aug)\n",
    "Fridays19 = []\n",
    "\n",
    "for month in range(1, 9):\n",
    "    mycal = calendar.monthcalendar(2019, month)\n",
    "    \n",
    "    for week in range(0,len(mycal)):\n",
    "        if mycal[week][calendar.FRIDAY] != 0:\n",
    "            #print(2019, month, mycal[week][calendar.FRIDAY])\n",
    "            Fridays19.append((2019, month, mycal[week][calendar.FRIDAY]))\n",
    "\n",
    "Fridays19[2]"
   ]
  },
  {
   "cell_type": "code",
   "execution_count": 19,
   "metadata": {},
   "outputs": [
    {
     "data": {
      "text/plain": [
       "(2016, 12, 23)"
      ]
     },
     "execution_count": 19,
     "metadata": {},
     "output_type": "execute_result"
    }
   ],
   "source": [
    "#Fridays in 2016\n",
    "Fridays16to19 = [(2016, 12, 23),(2016, 12, 30)]\n",
    "\n",
    "#Compile all the fridays 2016-2019\n",
    "Fridays16to19 = Fridays16to19 + Fridays17 + Fridays18 + Fridays19\n",
    "Fridays16to19[0]"
   ]
  },
  {
   "cell_type": "code",
   "execution_count": 21,
   "metadata": {},
   "outputs": [
    {
     "data": {
      "text/plain": [
       "'2016-12-23'"
      ]
     },
     "execution_count": 21,
     "metadata": {},
     "output_type": "execute_result"
    }
   ],
   "source": [
    "#formatting friday dates: 2016-12-23--2016-12-30\n",
    "\n",
    "Fridays_format = []\n",
    "\n",
    "for i in range(0, len(Fridays16to19)):\n",
    "    year = Fridays16to19[i][0]\n",
    "    month = Fridays16to19[i][1]\n",
    "    day = Fridays16to19[i][2]  \n",
    "    \n",
    "    if month < 10:\n",
    "        month = str(0)+str(month)\n",
    "    else:\n",
    "        month = str(month)\n",
    "        \n",
    "    if day < 10:\n",
    "        day = str(0)+str(day)\n",
    "    else:\n",
    "        day = str(day)\n",
    "    \n",
    "    #print(str(year)+\"-\"+month+\"-\"+day)\n",
    "    Fridays_format.append(str(year)+\"-\"+month+\"-\"+day)\n",
    "    \n",
    "Fridays_format[0]"
   ]
  },
  {
   "cell_type": "code",
   "execution_count": 22,
   "metadata": {},
   "outputs": [
    {
     "name": "stdout",
     "output_type": "stream",
     "text": [
      "https://spotifycharts.com/regional/global/weekly/2016-12-23--2016-12-30/download\n",
      "https://spotifycharts.com/regional/global/weekly/2016-12-30--2017-01-06/download\n",
      "https://spotifycharts.com/regional/global/weekly/2017-01-06--2017-01-13/download\n",
      "https://spotifycharts.com/regional/global/weekly/2017-01-13--2017-01-20/download\n",
      "https://spotifycharts.com/regional/global/weekly/2017-01-20--2017-01-27/download\n",
      "https://spotifycharts.com/regional/global/weekly/2017-01-27--2017-02-03/download\n",
      "https://spotifycharts.com/regional/global/weekly/2017-02-03--2017-02-10/download\n",
      "https://spotifycharts.com/regional/global/weekly/2017-02-10--2017-02-17/download\n",
      "https://spotifycharts.com/regional/global/weekly/2017-02-17--2017-02-24/download\n",
      "https://spotifycharts.com/regional/global/weekly/2017-02-24--2017-03-03/download\n",
      "https://spotifycharts.com/regional/global/weekly/2017-03-03--2017-03-10/download\n",
      "https://spotifycharts.com/regional/global/weekly/2017-03-10--2017-03-17/download\n",
      "https://spotifycharts.com/regional/global/weekly/2017-03-17--2017-03-24/download\n",
      "https://spotifycharts.com/regional/global/weekly/2017-03-24--2017-03-31/download\n",
      "https://spotifycharts.com/regional/global/weekly/2017-03-31--2017-04-07/download\n",
      "https://spotifycharts.com/regional/global/weekly/2017-04-07--2017-04-14/download\n",
      "https://spotifycharts.com/regional/global/weekly/2017-04-14--2017-04-21/download\n",
      "https://spotifycharts.com/regional/global/weekly/2017-04-21--2017-04-28/download\n",
      "https://spotifycharts.com/regional/global/weekly/2017-04-28--2017-05-05/download\n",
      "https://spotifycharts.com/regional/global/weekly/2017-05-05--2017-05-12/download\n",
      "https://spotifycharts.com/regional/global/weekly/2017-05-12--2017-05-19/download\n",
      "https://spotifycharts.com/regional/global/weekly/2017-05-19--2017-05-26/download\n",
      "https://spotifycharts.com/regional/global/weekly/2017-05-26--2017-06-02/download\n",
      "https://spotifycharts.com/regional/global/weekly/2017-06-02--2017-06-09/download\n",
      "https://spotifycharts.com/regional/global/weekly/2017-06-09--2017-06-16/download\n",
      "https://spotifycharts.com/regional/global/weekly/2017-06-16--2017-06-23/download\n",
      "https://spotifycharts.com/regional/global/weekly/2017-06-23--2017-06-30/download\n",
      "https://spotifycharts.com/regional/global/weekly/2017-06-30--2017-07-07/download\n",
      "https://spotifycharts.com/regional/global/weekly/2017-07-07--2017-07-14/download\n",
      "https://spotifycharts.com/regional/global/weekly/2017-07-14--2017-07-21/download\n",
      "https://spotifycharts.com/regional/global/weekly/2017-07-21--2017-07-28/download\n",
      "https://spotifycharts.com/regional/global/weekly/2017-07-28--2017-08-04/download\n",
      "https://spotifycharts.com/regional/global/weekly/2017-08-04--2017-08-11/download\n",
      "https://spotifycharts.com/regional/global/weekly/2017-08-11--2017-08-18/download\n",
      "https://spotifycharts.com/regional/global/weekly/2017-08-18--2017-08-25/download\n",
      "https://spotifycharts.com/regional/global/weekly/2017-08-25--2017-09-01/download\n",
      "https://spotifycharts.com/regional/global/weekly/2017-09-01--2017-09-08/download\n",
      "https://spotifycharts.com/regional/global/weekly/2017-09-08--2017-09-15/download\n",
      "https://spotifycharts.com/regional/global/weekly/2017-09-15--2017-09-22/download\n",
      "https://spotifycharts.com/regional/global/weekly/2017-09-22--2017-09-29/download\n",
      "https://spotifycharts.com/regional/global/weekly/2017-09-29--2017-10-06/download\n",
      "https://spotifycharts.com/regional/global/weekly/2017-10-06--2017-10-13/download\n",
      "https://spotifycharts.com/regional/global/weekly/2017-10-13--2017-10-20/download\n",
      "https://spotifycharts.com/regional/global/weekly/2017-10-20--2017-10-27/download\n",
      "https://spotifycharts.com/regional/global/weekly/2017-10-27--2017-11-03/download\n",
      "https://spotifycharts.com/regional/global/weekly/2017-11-03--2017-11-10/download\n",
      "https://spotifycharts.com/regional/global/weekly/2017-11-10--2017-11-17/download\n",
      "https://spotifycharts.com/regional/global/weekly/2017-11-17--2017-11-24/download\n",
      "https://spotifycharts.com/regional/global/weekly/2017-11-24--2017-12-01/download\n",
      "https://spotifycharts.com/regional/global/weekly/2017-12-01--2017-12-08/download\n",
      "https://spotifycharts.com/regional/global/weekly/2017-12-08--2017-12-15/download\n",
      "https://spotifycharts.com/regional/global/weekly/2017-12-15--2017-12-22/download\n",
      "https://spotifycharts.com/regional/global/weekly/2017-12-22--2017-12-29/download\n",
      "https://spotifycharts.com/regional/global/weekly/2017-12-29--2018-01-05/download\n",
      "https://spotifycharts.com/regional/global/weekly/2018-01-05--2018-01-12/download\n",
      "https://spotifycharts.com/regional/global/weekly/2018-01-12--2018-01-19/download\n",
      "https://spotifycharts.com/regional/global/weekly/2018-01-19--2018-01-26/download\n",
      "https://spotifycharts.com/regional/global/weekly/2018-01-26--2018-02-02/download\n",
      "https://spotifycharts.com/regional/global/weekly/2018-02-02--2018-02-09/download\n",
      "https://spotifycharts.com/regional/global/weekly/2018-02-09--2018-02-16/download\n",
      "https://spotifycharts.com/regional/global/weekly/2018-02-16--2018-02-23/download\n",
      "https://spotifycharts.com/regional/global/weekly/2018-02-23--2018-03-02/download\n",
      "https://spotifycharts.com/regional/global/weekly/2018-03-02--2018-03-09/download\n",
      "https://spotifycharts.com/regional/global/weekly/2018-03-09--2018-03-16/download\n",
      "https://spotifycharts.com/regional/global/weekly/2018-03-16--2018-03-23/download\n",
      "https://spotifycharts.com/regional/global/weekly/2018-03-23--2018-03-30/download\n",
      "https://spotifycharts.com/regional/global/weekly/2018-03-30--2018-04-06/download\n",
      "https://spotifycharts.com/regional/global/weekly/2018-04-06--2018-04-13/download\n",
      "https://spotifycharts.com/regional/global/weekly/2018-04-13--2018-04-20/download\n",
      "https://spotifycharts.com/regional/global/weekly/2018-04-20--2018-04-27/download\n",
      "https://spotifycharts.com/regional/global/weekly/2018-04-27--2018-05-04/download\n",
      "https://spotifycharts.com/regional/global/weekly/2018-05-04--2018-05-11/download\n",
      "https://spotifycharts.com/regional/global/weekly/2018-05-11--2018-05-18/download\n",
      "https://spotifycharts.com/regional/global/weekly/2018-05-18--2018-05-25/download\n",
      "https://spotifycharts.com/regional/global/weekly/2018-05-25--2018-06-01/download\n",
      "https://spotifycharts.com/regional/global/weekly/2018-06-01--2018-06-08/download\n",
      "https://spotifycharts.com/regional/global/weekly/2018-06-08--2018-06-15/download\n",
      "https://spotifycharts.com/regional/global/weekly/2018-06-15--2018-06-22/download\n",
      "https://spotifycharts.com/regional/global/weekly/2018-06-22--2018-06-29/download\n",
      "https://spotifycharts.com/regional/global/weekly/2018-06-29--2018-07-06/download\n",
      "https://spotifycharts.com/regional/global/weekly/2018-07-06--2018-07-13/download\n",
      "https://spotifycharts.com/regional/global/weekly/2018-07-13--2018-07-20/download\n",
      "https://spotifycharts.com/regional/global/weekly/2018-07-20--2018-07-27/download\n",
      "https://spotifycharts.com/regional/global/weekly/2018-07-27--2018-08-03/download\n",
      "https://spotifycharts.com/regional/global/weekly/2018-08-03--2018-08-10/download\n",
      "https://spotifycharts.com/regional/global/weekly/2018-08-10--2018-08-17/download\n",
      "https://spotifycharts.com/regional/global/weekly/2018-08-17--2018-08-24/download\n",
      "https://spotifycharts.com/regional/global/weekly/2018-08-24--2018-08-31/download\n",
      "https://spotifycharts.com/regional/global/weekly/2018-08-31--2018-09-07/download\n",
      "https://spotifycharts.com/regional/global/weekly/2018-09-07--2018-09-14/download\n",
      "https://spotifycharts.com/regional/global/weekly/2018-09-14--2018-09-21/download\n",
      "https://spotifycharts.com/regional/global/weekly/2018-09-21--2018-09-28/download\n",
      "https://spotifycharts.com/regional/global/weekly/2018-09-28--2018-10-05/download\n",
      "https://spotifycharts.com/regional/global/weekly/2018-10-05--2018-10-12/download\n",
      "https://spotifycharts.com/regional/global/weekly/2018-10-12--2018-10-19/download\n",
      "https://spotifycharts.com/regional/global/weekly/2018-10-19--2018-10-26/download\n",
      "https://spotifycharts.com/regional/global/weekly/2018-10-26--2018-11-02/download\n",
      "https://spotifycharts.com/regional/global/weekly/2018-11-02--2018-11-09/download\n",
      "https://spotifycharts.com/regional/global/weekly/2018-11-09--2018-11-16/download\n",
      "https://spotifycharts.com/regional/global/weekly/2018-11-16--2018-11-23/download\n",
      "https://spotifycharts.com/regional/global/weekly/2018-11-23--2018-11-30/download\n",
      "https://spotifycharts.com/regional/global/weekly/2018-11-30--2018-12-07/download\n",
      "https://spotifycharts.com/regional/global/weekly/2018-12-07--2018-12-14/download\n",
      "https://spotifycharts.com/regional/global/weekly/2018-12-14--2018-12-21/download\n",
      "https://spotifycharts.com/regional/global/weekly/2018-12-21--2018-12-28/download\n",
      "https://spotifycharts.com/regional/global/weekly/2018-12-28--2019-01-04/download\n",
      "https://spotifycharts.com/regional/global/weekly/2019-01-04--2019-01-11/download\n",
      "https://spotifycharts.com/regional/global/weekly/2019-01-11--2019-01-18/download\n",
      "https://spotifycharts.com/regional/global/weekly/2019-01-18--2019-01-25/download\n",
      "https://spotifycharts.com/regional/global/weekly/2019-01-25--2019-02-01/download\n",
      "https://spotifycharts.com/regional/global/weekly/2019-02-01--2019-02-08/download\n",
      "https://spotifycharts.com/regional/global/weekly/2019-02-08--2019-02-15/download\n",
      "https://spotifycharts.com/regional/global/weekly/2019-02-15--2019-02-22/download\n",
      "https://spotifycharts.com/regional/global/weekly/2019-02-22--2019-03-01/download\n",
      "https://spotifycharts.com/regional/global/weekly/2019-03-01--2019-03-08/download\n",
      "https://spotifycharts.com/regional/global/weekly/2019-03-08--2019-03-15/download\n",
      "https://spotifycharts.com/regional/global/weekly/2019-03-15--2019-03-22/download\n",
      "https://spotifycharts.com/regional/global/weekly/2019-03-22--2019-03-29/download\n",
      "https://spotifycharts.com/regional/global/weekly/2019-03-29--2019-04-05/download\n",
      "https://spotifycharts.com/regional/global/weekly/2019-04-05--2019-04-12/download\n",
      "https://spotifycharts.com/regional/global/weekly/2019-04-12--2019-04-19/download\n",
      "https://spotifycharts.com/regional/global/weekly/2019-04-19--2019-04-26/download\n",
      "https://spotifycharts.com/regional/global/weekly/2019-04-26--2019-05-03/download\n",
      "https://spotifycharts.com/regional/global/weekly/2019-05-03--2019-05-10/download\n",
      "https://spotifycharts.com/regional/global/weekly/2019-05-10--2019-05-17/download\n",
      "https://spotifycharts.com/regional/global/weekly/2019-05-17--2019-05-24/download\n",
      "https://spotifycharts.com/regional/global/weekly/2019-05-24--2019-05-31/download\n",
      "https://spotifycharts.com/regional/global/weekly/2019-05-31--2019-06-07/download\n",
      "https://spotifycharts.com/regional/global/weekly/2019-06-07--2019-06-14/download\n",
      "https://spotifycharts.com/regional/global/weekly/2019-06-14--2019-06-21/download\n",
      "https://spotifycharts.com/regional/global/weekly/2019-06-21--2019-06-28/download\n",
      "https://spotifycharts.com/regional/global/weekly/2019-06-28--2019-07-05/download\n",
      "https://spotifycharts.com/regional/global/weekly/2019-07-05--2019-07-12/download\n",
      "https://spotifycharts.com/regional/global/weekly/2019-07-12--2019-07-19/download\n",
      "https://spotifycharts.com/regional/global/weekly/2019-07-19--2019-07-26/download\n",
      "https://spotifycharts.com/regional/global/weekly/2019-07-26--2019-08-02/download\n",
      "https://spotifycharts.com/regional/global/weekly/2019-08-02--2019-08-09/download\n",
      "https://spotifycharts.com/regional/global/weekly/2019-08-09--2019-08-16/download\n",
      "https://spotifycharts.com/regional/global/weekly/2019-08-16--2019-08-23/download\n",
      "https://spotifycharts.com/regional/global/weekly/2019-08-23--2019-08-30/download\n"
     ]
    }
   ],
   "source": [
    "#put all the dates into the format of download link: \n",
    "#https://spotifycharts.com/regional/global/weekly/2016-12-23--2016-12-30/download\n",
    "\n",
    "####################IndexError: list index out of range\n",
    "# for j in range(0, len(Fridays_format)):\n",
    "#     str_p1 = \"https://spotifycharts.com/regional/global/weekly/\" + Fridays_format[j] + \"--\"\n",
    "#     if j != len(Fridays_format):\n",
    "#         print(str_p1 + Fridays_format[j+1] + \"/download\")\n",
    "        \n",
    "# for j in range(0, len(Fridays_format)):\n",
    "#     print(\"https://spotifycharts.com/regional/global/weekly/\" + Fridays_format[j] \n",
    "#           + \"--\" + Fridays_format[j+1] + \"/download\")\n",
    "\n",
    "\n",
    "j = 0\n",
    "while(j<len(Fridays_format)-1):\n",
    "    str_p1 = print(\"https://spotifycharts.com/regional/global/weekly/\" + Fridays_format[j] + \n",
    "                   \"--\" + Fridays_format[j+1] + \"/download\")\n",
    "    j += 1"
   ]
  }
 ],
 "metadata": {
  "kernelspec": {
   "display_name": "Python 3",
   "language": "python",
   "name": "python3"
  },
  "language_info": {
   "codemirror_mode": {
    "name": "ipython",
    "version": 3
   },
   "file_extension": ".py",
   "mimetype": "text/x-python",
   "name": "python",
   "nbconvert_exporter": "python",
   "pygments_lexer": "ipython3",
   "version": "3.7.3"
  },
  "toc": {
   "base_numbering": 1,
   "nav_menu": {},
   "number_sections": true,
   "sideBar": true,
   "skip_h1_title": false,
   "title_cell": "Table of Contents",
   "title_sidebar": "Contents",
   "toc_cell": false,
   "toc_position": {},
   "toc_section_display": true,
   "toc_window_display": false
  }
 },
 "nbformat": 4,
 "nbformat_minor": 2
}
