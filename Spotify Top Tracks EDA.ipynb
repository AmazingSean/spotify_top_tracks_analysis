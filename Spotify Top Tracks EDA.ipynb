{
 "cells": [
  {
   "cell_type": "code",
   "execution_count": null,
   "metadata": {},
   "outputs": [],
   "source": [
    "import numpy as np\n",
    "import pandas as pd\n",
    "import matplotlib.pyplot as plt\n",
    "import seaborn as sns \n",
    "import warnings\n",
    "from tqdm import tqdm\n",
    "from datetime import datetime\n",
    "import json\n",
    "from sklearn.preprocessing import LabelEncoder\n",
    "import calendar\n",
    "import spotipy\n",
    "warnings.filterwarnings(\"ignore\")"
   ]
  },
  {
   "cell_type": "markdown",
   "metadata": {},
   "source": [
    "# Web scrapping data from Spotify Chart"
   ]
  },
  {
   "cell_type": "markdown",
   "metadata": {},
   "source": [
    "## Get date needed for each week"
   ]
  },
  {
   "cell_type": "markdown",
   "metadata": {},
   "source": [
    "format of links to download:\n",
    "https://spotifycharts.com/regional/global/weekly/2016-12-23--2016-12-30/download\n",
    "https://spotifycharts.com/regional/global/weekly/2016-12-30--2017-01-06/download\n",
    "\n",
    "We see that all the dates that appear in the link are Fridays, each being one week apart"
   ]
  },
  {
   "cell_type": "code",
   "execution_count": null,
   "metadata": {},
   "outputs": [],
   "source": [
    "#An example of Calendar package\n",
    "x = []\n",
    "\n",
    "for month in range(1, 13):\n",
    "    mycal = calendar.monthcalendar(2025, month)\n",
    "    week1 = mycal[1]\n",
    "    week2 = mycal[2]\n",
    "      \n",
    "    if week1[calendar.MONDAY] != 0:\n",
    "        auditday = week1[calendar.MONDAY]\n",
    "    else: \n",
    "        auditday = week2[calendar.MONDAY] \n",
    "    print(\"%10s %2d\" % (calendar.month_name[month], auditday))\n",
    "    x.append(\"%10s %2d\" % (calendar.month_name[month], auditday))"
   ]
  },
  {
   "cell_type": "code",
   "execution_count": null,
   "metadata": {},
   "outputs": [],
   "source": [
    "# reference\n",
    "c = calendar.TextCalendar(calendar.MONDAY)\n",
    "str1 = c.formatmonth(2017,1)\n",
    "print(str1)"
   ]
  },
  {
   "cell_type": "code",
   "execution_count": null,
   "metadata": {},
   "outputs": [],
   "source": [
    "(calendar.monthcalendar(2017,1)[0][calendar.FRIDAY],calendar.monthcalendar(2017,1)[4][calendar.FRIDAY])\n",
    "#calendar.monthcalendar(2017,1)[c(0,4)][calendar.FRIDAY]"
   ]
  },
  {
   "cell_type": "code",
   "execution_count": null,
   "metadata": {},
   "outputs": [],
   "source": [
    "#All the fridays in 2017\n",
    "Fridays17 = []\n",
    "\n",
    "for month in range(1, 13):\n",
    "    mycal = calendar.monthcalendar(2017, month)\n",
    "    \n",
    "    for week in range(0,len(mycal)):\n",
    "        if mycal[week][calendar.FRIDAY] != 0:\n",
    "            #print(2017, month, mycal[week][calendar.FRIDAY])\n",
    "            Fridays17.append((2017, month, mycal[week][calendar.FRIDAY]))\n",
    "            \n",
    "            \n",
    "Fridays17[0]"
   ]
  },
  {
   "cell_type": "code",
   "execution_count": null,
   "metadata": {},
   "outputs": [],
   "source": [
    "#All the fridays in 2018\n",
    "Fridays18 = []\n",
    "\n",
    "for month in range(1, 13):\n",
    "    mycal = calendar.monthcalendar(2018, month)\n",
    "    \n",
    "    for week in range(0,len(mycal)):\n",
    "        if mycal[week][calendar.FRIDAY] != 0:\n",
    "            #print(2018, month, mycal[week][calendar.FRIDAY])\n",
    "            Fridays18.append((2018, month, mycal[week][calendar.FRIDAY]))\n",
    "\n",
    "\n",
    "Fridays18[0][2]"
   ]
  },
  {
   "cell_type": "code",
   "execution_count": null,
   "metadata": {},
   "outputs": [],
   "source": [
    "#fridays in 2019 (Jan to Aug)\n",
    "Fridays19 = []\n",
    "\n",
    "for month in range(1, 9):\n",
    "    mycal = calendar.monthcalendar(2019, month)\n",
    "    \n",
    "    for week in range(0,len(mycal)):\n",
    "        if mycal[week][calendar.FRIDAY] != 0:\n",
    "            #print(2019, month, mycal[week][calendar.FRIDAY])\n",
    "            Fridays19.append((2019, month, mycal[week][calendar.FRIDAY]))\n",
    "\n",
    "Fridays19[2]"
   ]
  },
  {
   "cell_type": "code",
   "execution_count": null,
   "metadata": {},
   "outputs": [],
   "source": [
    "#Fridays in 2016\n",
    "Fridays16to19 = [(2016, 12, 23),(2016, 12, 30)]\n",
    "\n",
    "#Compile all the fridays 2016-2019\n",
    "Fridays16to19 = Fridays16to19 + Fridays17 + Fridays18 + Fridays19\n",
    "Fridays16to19[0]"
   ]
  },
  {
   "cell_type": "code",
   "execution_count": null,
   "metadata": {},
   "outputs": [],
   "source": [
    "#formatting friday dates: 2016-12-23--2016-12-30\n",
    "\n",
    "Fridays_format = []\n",
    "\n",
    "for i in range(0, len(Fridays16to19)):\n",
    "    year = Fridays16to19[i][0]\n",
    "    month = Fridays16to19[i][1]\n",
    "    day = Fridays16to19[i][2]  \n",
    "    \n",
    "    if month < 10:\n",
    "        month = str(0)+str(month)\n",
    "    else:\n",
    "        month = str(month)\n",
    "        \n",
    "    if day < 10:\n",
    "        day = str(0)+str(day)\n",
    "    else:\n",
    "        day = str(day)\n",
    "    \n",
    "    #print(str(year)+\"-\"+month+\"-\"+day)\n",
    "    Fridays_format.append(str(year)+\"-\"+month+\"-\"+day)\n",
    "    \n",
    "Fridays_format[0]"
   ]
  },
  {
   "cell_type": "code",
   "execution_count": null,
   "metadata": {},
   "outputs": [],
   "source": [
    "#put all the dates into the format of download link: \n",
    "#https://spotifycharts.com/regional/global/weekly/2016-12-23--2016-12-30/download\n",
    "\n",
    "####################IndexError: list index out of range\n",
    "# for j in range(0, len(Fridays_format)):\n",
    "#     str_p1 = \"https://spotifycharts.com/regional/global/weekly/\" + Fridays_format[j] + \"--\"\n",
    "#     if j != len(Fridays_format):\n",
    "#         print(str_p1 + Fridays_format[j+1] + \"/download\")\n",
    "        \n",
    "# for j in range(0, len(Fridays_format)):\n",
    "#     print(\"https://spotifycharts.com/regional/global/weekly/\" + Fridays_format[j] \n",
    "#           + \"--\" + Fridays_format[j+1] + \"/download\")\n",
    "\n",
    "\n",
    "j = 0\n",
    "while(j<len(Fridays_format)-1):\n",
    "    str_p1 = print(\"https://spotifycharts.com/regional/global/weekly/\" + Fridays_format[j] + \n",
    "                   \"--\" + Fridays_format[j+1] + \"/download\")\n",
    "    j += 1"
   ]
  },
  {
   "cell_type": "markdown",
   "metadata": {},
   "source": [
    "## Billboard Dataset"
   ]
  },
  {
   "cell_type": "code",
   "execution_count": null,
   "metadata": {},
   "outputs": [],
   "source": [
    "import csv\n",
    "import pandas as pd\n",
    "\n",
    "billboard_df = pd.read_csv(\"~/desktop/spotify_top_tracks_analysis/data/billboard_lyrics_1964-2015.csv\",\n",
    "                   encoding='latin-1')\n",
    "billboard_df.head()\n",
    "\n",
    "#billboard_df.describe()"
   ]
  },
  {
   "cell_type": "code",
   "execution_count": null,
   "metadata": {},
   "outputs": [],
   "source": [
    "billboard_df.iloc[[4],[4]]"
   ]
  },
  {
   "cell_type": "code",
   "execution_count": null,
   "metadata": {},
   "outputs": [],
   "source": [
    "billboard_df"
   ]
  },
  {
   "cell_type": "markdown",
   "metadata": {},
   "source": [
    "## spotipy"
   ]
  },
  {
   "cell_type": "code",
   "execution_count": null,
   "metadata": {},
   "outputs": [],
   "source": [
    "#setting up spotipy\n",
    "import sys\n",
    "import spotipy\n",
    "import spotipy.util as util\n",
    "\n",
    "scope = 'user-library-read'\n",
    "\n",
    "if len(sys.argv) > 1:\n",
    "    username = sys.argv[1]\n",
    "else:\n",
    "    print (\"Usage: %s username\" % (sys.argv[0],))\n",
    "    sys.exit()\n",
    "    \n",
    "token = util.prompt_for_user_token(username,scope,client_id='ff9ff248e80e428bbb9796e1a7d62aeb',\n",
    "                                   client_secret='7f70a7c884494c6c96d2e6f03c4d2388', redirect_uri='http://localhost/')"
   ]
  },
  {
   "cell_type": "code",
   "execution_count": null,
   "metadata": {},
   "outputs": [],
   "source": [
    "sp = spotipy.Spotify(auth=token)"
   ]
  },
  {
   "cell_type": "code",
   "execution_count": null,
   "metadata": {},
   "outputs": [],
   "source": [
    "#test 1: Shawn Mendes\n",
    "name = 'Shawn Mendes'\n",
    "\n",
    "results = sp.search(q='artist:' + name, type='artist')\n",
    "print(results)"
   ]
  },
  {
   "cell_type": "code",
   "execution_count": null,
   "metadata": {},
   "outputs": [],
   "source": [
    "#test 2: Senorita Shawn Mendes\n",
    "track_name = 'Senorita'\n",
    "artist = 'Shawn Mendes'\n",
    "\n",
    "results = sp.search(q= track_name + ' ' + artist)\n",
    "print(results)"
   ]
  },
  {
   "cell_type": "code",
   "execution_count": null,
   "metadata": {},
   "outputs": [],
   "source": [
    "len(results['tracks']) #a list of the results\n",
    "results['tracks']['items'][0] #single\n",
    "results['tracks']['items'][1] #Shawn Mendes' Album"
   ]
  },
  {
   "cell_type": "code",
   "execution_count": null,
   "metadata": {},
   "outputs": [],
   "source": [
    "results['tracks']['items'][0].keys()"
   ]
  },
  {
   "cell_type": "code",
   "execution_count": null,
   "metadata": {},
   "outputs": [],
   "source": [
    "track_id = results['tracks']['items'][0]['id']\n",
    "track_id"
   ]
  },
  {
   "cell_type": "code",
   "execution_count": null,
   "metadata": {},
   "outputs": [],
   "source": [
    "track = sp.audio_analysis('0TK2YIli7K1leLovkQiNik')\n",
    "track"
   ]
  },
  {
   "cell_type": "code",
   "execution_count": null,
   "metadata": {},
   "outputs": [],
   "source": [
    "track = sp.audio_features('0TK2YIli7K1leLovkQiNik')\n",
    "track"
   ]
  },
  {
   "cell_type": "markdown",
   "metadata": {},
   "source": [
    "### Get_Track_ID function"
   ]
  },
  {
   "cell_type": "code",
   "execution_count": null,
   "metadata": {},
   "outputs": [],
   "source": [
    "def get_track_id(track_name = \"\", artist = \"\"):\n",
    "    print(track_name, artist)\n",
    "    q = track_name + ' ' + artist\n",
    "    print(q)\n",
    "    search_results = sp.search(q)\n",
    "    track_id = search_results['tracks']['items'][0]['id']\n",
    "    return track_id"
   ]
  },
  {
   "cell_type": "code",
   "execution_count": null,
   "metadata": {},
   "outputs": [],
   "source": [
    "#Solving error 1 - Index Error\n",
    "def get_track_id(track_name = \"\", artist = \"\"):\n",
    "    print(track_name, artist)\n",
    "    q = track_name + ' ' + artist\n",
    "    print(q)\n",
    "    search_results = sp.search(q)\n",
    "    try:\n",
    "        track_id = search_results['tracks']['items'][0]['id']\n",
    "    except IndexError:\n",
    "        track_id = 'null'\n",
    "    return track_id"
   ]
  },
  {
   "cell_type": "code",
   "execution_count": null,
   "metadata": {},
   "outputs": [],
   "source": [
    "#Solving error 2 - 'featuring'\n",
    "def get_track_id(track_name = \"\", artist = \"\"):\n",
    "    # 'featuring' problem\n",
    "    if ('featuring' in artist) == True:\n",
    "        artist = artist.split(' featuring')[0] + artist.split(' featuring')[1]\n",
    "    else:\n",
    "        artist = artist\n",
    "    print(track_name, artist)\n",
    "    \n",
    "    q = track_name + ' ' + artist\n",
    "    search_results = sp.search(q)\n",
    "    \n",
    "    #Index Error\n",
    "    try:\n",
    "        track_id = search_results['tracks']['items'][0]['id']\n",
    "    except IndexError:\n",
    "        track_id = 'null'\n",
    "    return track_id"
   ]
  },
  {
   "cell_type": "code",
   "execution_count": null,
   "metadata": {},
   "outputs": [],
   "source": [
    "#sample of first 5 rows with track ID\n",
    "sample_df = billboard_df.iloc[:5, :]\n",
    "sample_df"
   ]
  },
  {
   "cell_type": "code",
   "execution_count": null,
   "metadata": {},
   "outputs": [],
   "source": [
    "sample_df['Spotify_Track_ID'] = sample_df.apply(lambda row: get_track_id(row['Song'],row['Artist']), axis=1)\n",
    "\n"
   ]
  },
  {
   "cell_type": "code",
   "execution_count": null,
   "metadata": {},
   "outputs": [],
   "source": [
    "sample_df.to_csv('sample.csv')"
   ]
  },
  {
   "cell_type": "code",
   "execution_count": null,
   "metadata": {},
   "outputs": [],
   "source": [
    "get_track_id('wooly bully','sam the sham and the pharaohs')"
   ]
  },
  {
   "cell_type": "code",
   "execution_count": null,
   "metadata": {},
   "outputs": [],
   "source": [
    "billboard_df.iloc[[0],[2]] #in the form of data frame\n",
    "billboard_df.iloc[0,1] #in the form of string\n",
    "get_track_id(billboard_df.iloc[0,1],billboard_df.iloc[0,2])"
   ]
  },
  {
   "cell_type": "code",
   "execution_count": null,
   "metadata": {},
   "outputs": [],
   "source": [
    "billboard_df['Spotify_Track_ID'] = billboard_df.apply(lambda row: get_track_id(row['Song'],row['Artist']), axis=1)\n",
    "#axis lets apply function know which way it is going through (by row or by column)"
   ]
  },
  {
   "cell_type": "code",
   "execution_count": null,
   "metadata": {},
   "outputs": [],
   "source": [
    "billboard_df.Spotify_Track_ID.value_counts() #256 nulls after removing 'featuring'"
   ]
  },
  {
   "cell_type": "code",
   "execution_count": null,
   "metadata": {},
   "outputs": [],
   "source": [
    "value_list = ['null']\n",
    "billboard_df[billboard_df.Spotify_Track_ID.isin(value_list)].Year.value_counts()"
   ]
  },
  {
   "cell_type": "code",
   "execution_count": null,
   "metadata": {},
   "outputs": [],
   "source": [
    "value_list = ['null']\n",
    "billboard_df[billboard_df.Spotify_Track_ID.isin(value_list)]\n",
    "#billboard_df[billboard_df.Spotify_Track_ID.isin(value_list)].Song.value_counts()"
   ]
  },
  {
   "cell_type": "code",
   "execution_count": null,
   "metadata": {},
   "outputs": [],
   "source": [
    "get_track_id('bad blood taylor swift kendrick lamar')"
   ]
  },
  {
   "cell_type": "code",
   "execution_count": null,
   "metadata": {},
   "outputs": [],
   "source": [
    "get_track_id('lean on major lazer')"
   ]
  },
  {
   "cell_type": "code",
   "execution_count": null,
   "metadata": {},
   "outputs": [],
   "source": [
    "sp.track('1Lim1Py7xBgbAkAys3AGAG')"
   ]
  },
  {
   "cell_type": "code",
   "execution_count": null,
   "metadata": {},
   "outputs": [],
   "source": [
    "# Second error - \"featuring\" in Artist cause a big problem\n",
    "#billboard_df.iloc[5015,:]\n",
    "('featuring' in billboard_df.iloc[5015,2])\n",
    "#billboard_df.iloc[5015,2][:billboard_df.iloc[5015,2].index(\"featuring\")]"
   ]
  },
  {
   "cell_type": "code",
   "execution_count": null,
   "metadata": {},
   "outputs": [],
   "source": [
    "a = billboard_df.iloc[5014,2].split(' featuring')[0] + billboard_df.iloc[5014,2].split(' featuring')[1]\n",
    "a"
   ]
  },
  {
   "cell_type": "code",
   "execution_count": null,
   "metadata": {},
   "outputs": [],
   "source": [
    "if ('featuring' in billboard_df.iloc[5014,2]) == True:\n",
    "    print(billboard_df.iloc[5014,2].split(' featuring')[0] + billboard_df.iloc[5014,2].split(' featuring')[1])\n",
    "else:\n",
    "    print(billboard_df.iloc[5014,2])"
   ]
  },
  {
   "cell_type": "code",
   "execution_count": null,
   "metadata": {},
   "outputs": [],
   "source": [
    "# First error - IndexError: list index out of range\n",
    "billboard_df.iloc[131]\n",
    "get_track_id(billboard_df.iloc[131,1],billboard_df.iloc[131,2])"
   ]
  },
  {
   "cell_type": "code",
   "execution_count": null,
   "metadata": {},
   "outputs": [],
   "source": [
    "billboard_df.iloc[[131],[1]] + \" \" + billboard_df.iloc[[131],[2]] \n",
    "#NaN because of the data structure"
   ]
  },
  {
   "cell_type": "code",
   "execution_count": null,
   "metadata": {},
   "outputs": [],
   "source": [
    "get_track_id(billboard_df.iloc[[131],[1]], billboard_df.iloc[[131],[2]]) \n",
    "#NaN somehow has a default id '1f5cbQtDrykjarZVrShaDI'\n",
    "get_track_id(billboard_df.iloc[[0],[1]], billboard_df.iloc[[0],[2]])"
   ]
  },
  {
   "cell_type": "code",
   "execution_count": null,
   "metadata": {},
   "outputs": [],
   "source": [
    "billboard_dfrd_dfboard_df.head()"
   ]
  },
  {
   "cell_type": "code",
   "execution_count": null,
   "metadata": {},
   "outputs": [],
   "source": [
    "sp.track('5tyMJlMqaggzvuX7TtlrTe')"
   ]
  },
  {
   "cell_type": "code",
   "execution_count": null,
   "metadata": {},
   "outputs": [],
   "source": []
  },
  {
   "cell_type": "markdown",
   "metadata": {},
   "source": [
    "### Sample 10000 and get features"
   ]
  },
  {
   "cell_type": "code",
   "execution_count": 12,
   "metadata": {},
   "outputs": [],
   "source": [
    "billboard_with_id_df = pd.read_csv(\"~/desktop/spotify_top_tracks_analysis/data/billboard_with_ids.csv\")"
   ]
  },
  {
   "cell_type": "code",
   "execution_count": 15,
   "metadata": {},
   "outputs": [
    {
     "data": {
      "text/plain": [
       "(290913, 13)"
      ]
     },
     "execution_count": 15,
     "metadata": {},
     "output_type": "execute_result"
    }
   ],
   "source": [
    "billboard_with_id_df.shape"
   ]
  },
  {
   "cell_type": "code",
   "execution_count": 16,
   "metadata": {},
   "outputs": [],
   "source": [
    "sample = billboard_with_id_df.sample(n=10000, random_state=2019)"
   ]
  },
  {
   "cell_type": "code",
   "execution_count": 19,
   "metadata": {},
   "outputs": [],
   "source": [
    "import os\n",
    "path='~/desktop/spotify_top_tracks_analysis/data/'\n",
    "sample.to_csv(os.path.join(path,r'billboard_with_ids_10000_sample.csv'))\n",
    "\n",
    "#sample.to_csv('billboard_with_ids_10000_sample.csv')"
   ]
  },
  {
   "cell_type": "code",
   "execution_count": null,
   "metadata": {},
   "outputs": [],
   "source": []
  },
  {
   "cell_type": "code",
   "execution_count": null,
   "metadata": {},
   "outputs": [],
   "source": []
  }
 ],
 "metadata": {
  "kernelspec": {
   "display_name": "Python 3",
   "language": "python",
   "name": "python3"
  },
  "language_info": {
   "codemirror_mode": {
    "name": "ipython",
    "version": 3
   },
   "file_extension": ".py",
   "mimetype": "text/x-python",
   "name": "python",
   "nbconvert_exporter": "python",
   "pygments_lexer": "ipython3",
   "version": "3.7.3"
  },
  "toc": {
   "base_numbering": 1,
   "nav_menu": {},
   "number_sections": true,
   "sideBar": true,
   "skip_h1_title": false,
   "title_cell": "Table of Contents",
   "title_sidebar": "Contents",
   "toc_cell": false,
   "toc_position": {},
   "toc_section_display": true,
   "toc_window_display": false
  }
 },
 "nbformat": 4,
 "nbformat_minor": 2
}
