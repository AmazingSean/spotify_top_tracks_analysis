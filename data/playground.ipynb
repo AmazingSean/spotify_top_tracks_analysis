{
 "cells": [
  {
   "cell_type": "code",
   "execution_count": null,
   "metadata": {},
   "outputs": [],
   "source": [
    "#setting up spotipy\n",
    "import sys\n",
    "import spotipy\n",
    "import spotipy.util as util\n",
    "\n",
    "scope = 'user-library-read'\n",
    "\n",
    "# if len(sys.argv) > 1:\n",
    "#     username = sys.argv[1]\n",
    "# else:\n",
    "#     print (\"Usage: %s username\" % (sys.argv[0],))\n",
    "#     sys.exit()\n",
    "    \n",
    "# token = util.prompt_for_user_token(username,scope,client_id='ff9ff248e80e428bbb9796e1a7d62aeb',\n",
    "#                                    client_secret='7f70a7c884494c6c96d2e6f03c4d2388', redirect_uri='http://localhost/')\n",
    "\n",
    "from spotipy.oauth2 import SpotifyClientCredentials\n",
    "\n",
    "client_credentials_manager = SpotifyClientCredentials(client_id='ff9ff248e80e428bbb9796e1a7d62aeb', client_secret='7f70a7c884494c6c96d2e6f03c4d2388')\n",
    "sp = spotipy.Spotify(client_credentials_manager=client_credentials_manager)"
   ]
  },
  {
   "cell_type": "code",
   "execution_count": null,
   "metadata": {},
   "outputs": [],
   "source": [
    "import pandas as pd\n",
    "import numpy as np\n",
    "\n",
    "# sample = pd.read_csv('sample.csv')"
   ]
  },
  {
   "cell_type": "code",
   "execution_count": null,
   "metadata": {},
   "outputs": [],
   "source": [
    "df = pd.read_csv('billboard_weekly_id.csv')"
   ]
  },
  {
   "cell_type": "code",
   "execution_count": null,
   "metadata": {},
   "outputs": [],
   "source": [
    "df.shape"
   ]
  },
  {
   "cell_type": "code",
   "execution_count": null,
   "metadata": {},
   "outputs": [],
   "source": [
    "df[df['sp_id'].notnull()].to_csv('billboard_with_ids.csv')"
   ]
  },
  {
   "cell_type": "code",
   "execution_count": null,
   "metadata": {},
   "outputs": [],
   "source": [
    "df[df['sp_id'].isnull()]"
   ]
  },
  {
   "cell_type": "code",
   "execution_count": null,
   "metadata": {},
   "outputs": [],
   "source": [
    "feature_names = ['duration_ms', 'key', 'mode', 'time_signature', 'acousticness', 'danceability', \n",
    "                'energy', 'instrumentalness', 'liveness', 'loudness', 'speechiness', 'valence', 'tempo']"
   ]
  },
  {
   "cell_type": "code",
   "execution_count": null,
   "metadata": {},
   "outputs": [],
   "source": [
    "def get_features_with_id(id):\n",
    "    track = sp.audio_features(id)[0]\n",
    "    \n",
    "    return [track[feature] for feature in feature_names]\n",
    "    "
   ]
  },
  {
   "cell_type": "code",
   "execution_count": null,
   "metadata": {},
   "outputs": [],
   "source": [
    "column_names = list(sample.columns)\n",
    "column_names.extend(feature_names)\n",
    "sample = sample.reindex(columns = column_names)"
   ]
  },
  {
   "cell_type": "code",
   "execution_count": null,
   "metadata": {},
   "outputs": [],
   "source": [
    "sample[feature_names] = sample['Spotify_Track_ID'].apply(lambda x: pd.Series(get_features_with_id(x)))"
   ]
  },
  {
   "cell_type": "code",
   "execution_count": null,
   "metadata": {},
   "outputs": [],
   "source": [
    "column_names = list(sample.columns)\n",
    "column_names.extend(feature_names)\n",
    "sample.reindex(columns = column_names)"
   ]
  },
  {
   "cell_type": "code",
   "execution_count": null,
   "metadata": {},
   "outputs": [],
   "source": [
    "analysis = sp.audio_analysis('2XkuSbp5say8nZW8g6156Z')"
   ]
  },
  {
   "cell_type": "code",
   "execution_count": null,
   "metadata": {},
   "outputs": [],
   "source": [
    "billboard_weekly = pd.read_csv('https://query.data.world/s/fmip5pplwfadgvsbinribf5sgs7rcx')"
   ]
  },
  {
   "cell_type": "code",
   "execution_count": null,
   "metadata": {},
   "outputs": [],
   "source": [
    "def get_track_id(track_name = \"\", artist = \"\"):\n",
    "    # 'featuring' problem\n",
    "    if 'Featuring' in artist:\n",
    "        artist = artist.split('Featuring')[0]\n",
    "\n",
    "#     print(track_name, artist)\n",
    "    \n",
    "    q = track_name + ' ' + artist\n",
    "    search_results = sp.search(q)\n",
    "    \n",
    "    #Index Error\n",
    "    try:\n",
    "        track_id = search_results['tracks']['items'][0]['id']\n",
    "    except IndexError:\n",
    "        track_id = 'null'\n",
    "            \n",
    "    return track_id"
   ]
  },
  {
   "cell_type": "code",
   "execution_count": null,
   "metadata": {},
   "outputs": [],
   "source": [
    "def index_marks(nrows, chunk_size):\n",
    "    return range(1 * chunk_size, (nrows // chunk_size + 1) * chunk_size, chunk_size)\n",
    "\n",
    "def split(dfm, chunk_size):\n",
    "    indices = index_marks(dfm.shape[0], chunk_size)\n",
    "    print(dfm.shape[0])\n",
    "    return np.split(dfm, indices)\n",
    "\n",
    "chunks = split(billboard_weekly, 5000)"
   ]
  },
  {
   "cell_type": "code",
   "execution_count": null,
   "metadata": {},
   "outputs": [],
   "source": [
    "count = 0\n",
    "for c in chunks:\n",
    "    count += 1\n",
    "    print('Chunk #: ' + str(count))\n",
    "    token = util.prompt_for_user_token(username,scope,client_id='ff9ff248e80e428bbb9796e1a7d62aeb',\n",
    "                                   client_secret='7f70a7c884494c6c96d2e6f03c4d2388', redirect_uri='http://localhost/')\n",
    "    \n",
    "    sp = spotipy.Spotify(auth=token)\n",
    "    c = parallelize_dataframe(c, get_sp_id, 4)"
   ]
  },
  {
   "cell_type": "code",
   "execution_count": null,
   "metadata": {},
   "outputs": [],
   "source": [
    "billboard_weekly.head()"
   ]
  },
  {
   "cell_type": "code",
   "execution_count": null,
   "metadata": {},
   "outputs": [],
   "source": [
    "from pandarallel import pandarallel\n",
    "\n",
    "pandarallel.initialize(progress_bar=True)\n",
    "\n",
    "def get_sp_id(row):\n",
    "    artist = row.Performer\n",
    "    track_name = row.Song\n",
    "    \n",
    "    if 'Featuring' in row.Performer:\n",
    "        artist = artist.split('Featuring')[0]\n",
    "    \n",
    "    if '&' in artist:\n",
    "        artist = artist.split('&')[0]\n",
    "        \n",
    "    if 'With' in artist:\n",
    "        artist = artist.split('With')[0]\n",
    "        \n",
    "#     print(track_name, artist)\n",
    "    q = track_name + ' ' + artist\n",
    "    search_results = sp.search(q)\n",
    "    \n",
    "    #Index Error\n",
    "    try:\n",
    "        track_id = search_results['tracks']['items'][0]['id']\n",
    "    except IndexError:\n",
    "        track_id = 'null'\n",
    "            \n",
    "    return track_id\n",
    "\n"
   ]
  },
  {
   "cell_type": "code",
   "execution_count": null,
   "metadata": {},
   "outputs": [],
   "source": [
    "#test:\n",
    "%time result = chunks[0].parallel_apply(get_sp_id, axis=1)\n"
   ]
  },
  {
   "cell_type": "code",
   "execution_count": null,
   "metadata": {},
   "outputs": [],
   "source": [
    "len(result)"
   ]
  },
  {
   "cell_type": "code",
   "execution_count": null,
   "metadata": {},
   "outputs": [],
   "source": [
    "count = 0\n",
    "result = []\n",
    "for chunk in chunks:\n",
    "    count += 1\n",
    "    print('Chunk #: ' + str(count))\n",
    "#     sp = spotipy.Spotify(auth=token)\n",
    "    \n",
    "    %time chunk_result = chunk.parallel_apply(get_sp_id, axis=1)\n",
    "    \n",
    "    result.extend(chunk_result)\n"
   ]
  },
  {
   "cell_type": "code",
   "execution_count": null,
   "metadata": {},
   "outputs": [],
   "source": [
    "%time id_list = billboard_weekly.parallel_apply(get_sp_id, axis=1)"
   ]
  },
  {
   "cell_type": "code",
   "execution_count": null,
   "metadata": {},
   "outputs": [],
   "source": [
    "len(id_list)"
   ]
  },
  {
   "cell_type": "code",
   "execution_count": null,
   "metadata": {},
   "outputs": [],
   "source": [
    "billboard_weekly.shape"
   ]
  },
  {
   "cell_type": "code",
   "execution_count": null,
   "metadata": {},
   "outputs": [],
   "source": [
    "billboard_weekly['sp_id'] = id_list"
   ]
  },
  {
   "cell_type": "code",
   "execution_count": null,
   "metadata": {},
   "outputs": [],
   "source": [
    "billboard_weekly.to_csv('billboard_weekly_id.csv')"
   ]
  },
  {
   "cell_type": "code",
   "execution_count": null,
   "metadata": {},
   "outputs": [],
   "source": [
    "sum(id_list == 'null')"
   ]
  },
  {
   "cell_type": "code",
   "execution_count": null,
   "metadata": {},
   "outputs": [],
   "source": [
    "null_df = billboard_weekly[billboard_weekly['sp_id'] == 'null']"
   ]
  },
  {
   "cell_type": "code",
   "execution_count": null,
   "metadata": {},
   "outputs": [],
   "source": [
    "sp.search('Return To Sender')"
   ]
  },
  {
   "cell_type": "code",
   "execution_count": null,
   "metadata": {},
   "outputs": [],
   "source": [
    "%time null_id_list = null_df.parallel_apply(get_sp_id, axis=1)"
   ]
  },
  {
   "cell_type": "code",
   "execution_count": null,
   "metadata": {},
   "outputs": [],
   "source": [
    "sum(null_id_list=='null')"
   ]
  },
  {
   "cell_type": "code",
   "execution_count": null,
   "metadata": {},
   "outputs": [],
   "source": [
    "null_id_list.head()"
   ]
  },
  {
   "cell_type": "code",
   "execution_count": null,
   "metadata": {},
   "outputs": [],
   "source": [
    "null_df[null_df['sp_id'] != 'null']"
   ]
  },
  {
   "cell_type": "code",
   "execution_count": null,
   "metadata": {},
   "outputs": [],
   "source": [
    "null_df['sp_id'] = null_id_list"
   ]
  },
  {
   "cell_type": "code",
   "execution_count": null,
   "metadata": {},
   "outputs": [],
   "source": [
    "df = pd.merge(billboard_weekly, null_df, how='left', on='sp_id')"
   ]
  },
  {
   "cell_type": "code",
   "execution_count": null,
   "metadata": {},
   "outputs": [],
   "source": [
    "null_id_list"
   ]
  }
 ],
 "metadata": {
  "kernelspec": {
   "display_name": "Python 3",
   "language": "python",
   "name": "python3"
  },
  "language_info": {
   "codemirror_mode": {
    "name": "ipython",
    "version": 3
   },
   "file_extension": ".py",
   "mimetype": "text/x-python",
   "name": "python",
   "nbconvert_exporter": "python",
   "pygments_lexer": "ipython3",
   "version": "3.7.3"
  },
  "toc": {
   "base_numbering": 1,
   "nav_menu": {},
   "number_sections": true,
   "sideBar": true,
   "skip_h1_title": false,
   "title_cell": "Table of Contents",
   "title_sidebar": "Contents",
   "toc_cell": false,
   "toc_position": {},
   "toc_section_display": true,
   "toc_window_display": false
  }
 },
 "nbformat": 4,
 "nbformat_minor": 2
}
